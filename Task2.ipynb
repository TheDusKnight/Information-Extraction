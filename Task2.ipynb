{
 "cells": [
  {
   "cell_type": "markdown",
   "source": [
    "# Using SpaCy to Extract Information from Cast Biographies\n",
    "\n",
    "<sub>Content of this notebook was prepared by Basel Shbita (shbita@usc.edu) as part of the class <u>INF 558: Building Knowledge Graphs</u></sub>"
   ],
   "metadata": {}
  },
  {
   "cell_type": "markdown",
   "source": [
    "SpaCy is an open-source software library for advanced natural language processing (NLP). SpaCy provides a one-stop-shop for tasks commonly used in any NLP project, including: Tokenisation, Lemmatisation, Part-of-speech (POS) tagging, Entity recognition, Dependency parsing, Sentence recognition, Word-to-vector transformations and many more methods for cleaning and normalising text data.\n",
    "\n",
    "This notebook introduces some applied examples of NLP tasks to extract information from unstructured data using spaCy. The extracted structured data we produce can be used for downstream applications, such as creating Knowledge Graphs!"
   ],
   "metadata": {}
  },
  {
   "cell_type": "code",
   "execution_count": 4,
   "metadata": {},
   "outputs": [
    {
     "output_type": "stream",
     "name": "stdout",
     "text": [
      "Collecting spacy\n",
      "  Downloading spacy-2.3.5-cp38-cp38-manylinux2014_x86_64.whl (10.5 MB)\n",
      "\u001B[K     |████████████████████████████████| 10.5 MB 3.1 MB/s \n",
      "\u001B[?25hCollecting plac<1.2.0,>=0.9.6\n",
      "  Downloading plac-1.1.3-py2.py3-none-any.whl (20 kB)\n",
      "Collecting catalogue<1.1.0,>=0.0.7\n",
      "  Downloading catalogue-1.0.0-py2.py3-none-any.whl (7.7 kB)\n",
      "Collecting cymem<2.1.0,>=2.0.2\n",
      "  Downloading cymem-2.0.5-cp38-cp38-manylinux2014_x86_64.whl (35 kB)\n",
      "Collecting murmurhash<1.1.0,>=0.28.0\n",
      "  Downloading murmurhash-1.0.5-cp38-cp38-manylinux2014_x86_64.whl (20 kB)\n",
      "Collecting srsly<1.1.0,>=1.0.2\n",
      "  Downloading srsly-1.0.5-cp38-cp38-manylinux2014_x86_64.whl (186 kB)\n",
      "\u001B[K     |████████████████████████████████| 186 kB 20.3 MB/s \n",
      "\u001B[?25hRequirement already satisfied: tqdm<5.0.0,>=4.38.0 in /mnt/c/Users/Clapika/anaconda3/lib/python3.8/site-packages (from spacy) (4.47.0)\n",
      "Requirement already satisfied: numpy>=1.15.0 in /mnt/c/Users/Clapika/anaconda3/lib/python3.8/site-packages (from spacy) (1.18.5)\n",
      "Requirement already satisfied: setuptools in /mnt/c/Users/Clapika/anaconda3/lib/python3.8/site-packages (from spacy) (49.2.0.post20200714)\n",
      "Collecting wasabi<1.1.0,>=0.4.0\n",
      "  Downloading wasabi-0.8.2-py3-none-any.whl (23 kB)\n",
      "Collecting thinc<7.5.0,>=7.4.1\n",
      "  Downloading thinc-7.4.5-cp38-cp38-manylinux2014_x86_64.whl (1.1 MB)\n",
      "\u001B[K     |████████████████████████████████| 1.1 MB 17.1 MB/s \n",
      "\u001B[?25hCollecting blis<0.8.0,>=0.4.0\n",
      "  Downloading blis-0.7.4-cp38-cp38-manylinux2014_x86_64.whl (9.8 MB)\n",
      "\u001B[K     |████████████████████████████████| 9.8 MB 10.5 MB/s \n",
      "\u001B[?25hRequirement already satisfied: requests<3.0.0,>=2.13.0 in /mnt/c/Users/Clapika/anaconda3/lib/python3.8/site-packages (from spacy) (2.24.0)\n",
      "Collecting preshed<3.1.0,>=3.0.2\n",
      "  Downloading preshed-3.0.5-cp38-cp38-manylinux2014_x86_64.whl (130 kB)\n",
      "\u001B[K     |████████████████████████████████| 130 kB 23.3 MB/s \n",
      "\u001B[?25hRequirement already satisfied: chardet<4,>=3.0.2 in /mnt/c/Users/Clapika/anaconda3/lib/python3.8/site-packages (from requests<3.0.0,>=2.13.0->spacy) (3.0.4)\n",
      "Requirement already satisfied: idna<3,>=2.5 in /mnt/c/Users/Clapika/anaconda3/lib/python3.8/site-packages (from requests<3.0.0,>=2.13.0->spacy) (2.10)\n",
      "Requirement already satisfied: urllib3!=1.25.0,!=1.25.1,<1.26,>=1.21.1 in /mnt/c/Users/Clapika/anaconda3/lib/python3.8/site-packages (from requests<3.0.0,>=2.13.0->spacy) (1.25.9)\n",
      "Requirement already satisfied: certifi>=2017.4.17 in /mnt/c/Users/Clapika/anaconda3/lib/python3.8/site-packages (from requests<3.0.0,>=2.13.0->spacy) (2020.6.20)\n",
      "Installing collected packages: plac, catalogue, cymem, murmurhash, srsly, wasabi, preshed, blis, thinc, spacy\n",
      "Successfully installed blis-0.7.4 catalogue-1.0.0 cymem-2.0.5 murmurhash-1.0.5 plac-1.1.3 preshed-3.0.5 spacy-2.3.5 srsly-1.0.5 thinc-7.4.5 wasabi-0.8.2\n"
     ]
    }
   ],
   "source": [
    "!pip install spacy"
   ]
  },
  {
   "cell_type": "markdown",
   "source": [
    "## Language Model"
   ],
   "metadata": {}
  },
  {
   "cell_type": "markdown",
   "source": [
    "There are various different types of models in spaCy. We well use an available pretrained statistical model for English (`en_core_web_sm`). Let’s download then load it."
   ],
   "metadata": {}
  },
  {
   "cell_type": "code",
   "source": [
    "!python -m spacy download en_core_web_sm"
   ],
   "outputs": [
    {
     "output_type": "stream",
     "name": "stdout",
     "text": [
      "Collecting en_core_web_sm==2.3.1\n",
      "  Downloading https://github.com/explosion/spacy-models/releases/download/en_core_web_sm-2.3.1/en_core_web_sm-2.3.1.tar.gz (12.0 MB)\n",
      "\u001B[K     |████████████████████████████████| 12.0 MB 6.5 MB/s \n",
      "\u001B[?25hRequirement already satisfied: spacy<2.4.0,>=2.3.0 in /mnt/c/Users/Clapika/anaconda3/lib/python3.8/site-packages (from en_core_web_sm==2.3.1) (2.3.5)\n",
      "Requirement already satisfied: requests<3.0.0,>=2.13.0 in /mnt/c/Users/Clapika/anaconda3/lib/python3.8/site-packages (from spacy<2.4.0,>=2.3.0->en_core_web_sm==2.3.1) (2.24.0)\n",
      "Requirement already satisfied: wasabi<1.1.0,>=0.4.0 in /mnt/c/Users/Clapika/anaconda3/lib/python3.8/site-packages (from spacy<2.4.0,>=2.3.0->en_core_web_sm==2.3.1) (0.8.2)\n",
      "Requirement already satisfied: plac<1.2.0,>=0.9.6 in /mnt/c/Users/Clapika/anaconda3/lib/python3.8/site-packages (from spacy<2.4.0,>=2.3.0->en_core_web_sm==2.3.1) (1.1.3)\n",
      "Requirement already satisfied: srsly<1.1.0,>=1.0.2 in /mnt/c/Users/Clapika/anaconda3/lib/python3.8/site-packages (from spacy<2.4.0,>=2.3.0->en_core_web_sm==2.3.1) (1.0.5)\n",
      "Requirement already satisfied: tqdm<5.0.0,>=4.38.0 in /mnt/c/Users/Clapika/anaconda3/lib/python3.8/site-packages (from spacy<2.4.0,>=2.3.0->en_core_web_sm==2.3.1) (4.47.0)\n",
      "Requirement already satisfied: setuptools in /mnt/c/Users/Clapika/anaconda3/lib/python3.8/site-packages (from spacy<2.4.0,>=2.3.0->en_core_web_sm==2.3.1) (49.2.0.post20200714)\n",
      "Requirement already satisfied: numpy>=1.15.0 in /mnt/c/Users/Clapika/anaconda3/lib/python3.8/site-packages (from spacy<2.4.0,>=2.3.0->en_core_web_sm==2.3.1) (1.18.5)\n",
      "Requirement already satisfied: preshed<3.1.0,>=3.0.2 in /mnt/c/Users/Clapika/anaconda3/lib/python3.8/site-packages (from spacy<2.4.0,>=2.3.0->en_core_web_sm==2.3.1) (3.0.5)\n",
      "Requirement already satisfied: cymem<2.1.0,>=2.0.2 in /mnt/c/Users/Clapika/anaconda3/lib/python3.8/site-packages (from spacy<2.4.0,>=2.3.0->en_core_web_sm==2.3.1) (2.0.5)\n",
      "Requirement already satisfied: murmurhash<1.1.0,>=0.28.0 in /mnt/c/Users/Clapika/anaconda3/lib/python3.8/site-packages (from spacy<2.4.0,>=2.3.0->en_core_web_sm==2.3.1) (1.0.5)\n",
      "Requirement already satisfied: thinc<7.5.0,>=7.4.1 in /mnt/c/Users/Clapika/anaconda3/lib/python3.8/site-packages (from spacy<2.4.0,>=2.3.0->en_core_web_sm==2.3.1) (7.4.5)\n",
      "Requirement already satisfied: catalogue<1.1.0,>=0.0.7 in /mnt/c/Users/Clapika/anaconda3/lib/python3.8/site-packages (from spacy<2.4.0,>=2.3.0->en_core_web_sm==2.3.1) (1.0.0)\n",
      "Requirement already satisfied: blis<0.8.0,>=0.4.0 in /mnt/c/Users/Clapika/anaconda3/lib/python3.8/site-packages (from spacy<2.4.0,>=2.3.0->en_core_web_sm==2.3.1) (0.7.4)\n",
      "Requirement already satisfied: idna<3,>=2.5 in /mnt/c/Users/Clapika/anaconda3/lib/python3.8/site-packages (from requests<3.0.0,>=2.13.0->spacy<2.4.0,>=2.3.0->en_core_web_sm==2.3.1) (2.10)\n",
      "Requirement already satisfied: urllib3!=1.25.0,!=1.25.1,<1.26,>=1.21.1 in /mnt/c/Users/Clapika/anaconda3/lib/python3.8/site-packages (from requests<3.0.0,>=2.13.0->spacy<2.4.0,>=2.3.0->en_core_web_sm==2.3.1) (1.25.9)\n",
      "Requirement already satisfied: certifi>=2017.4.17 in /mnt/c/Users/Clapika/anaconda3/lib/python3.8/site-packages (from requests<3.0.0,>=2.13.0->spacy<2.4.0,>=2.3.0->en_core_web_sm==2.3.1) (2020.6.20)\n",
      "Requirement already satisfied: chardet<4,>=3.0.2 in /mnt/c/Users/Clapika/anaconda3/lib/python3.8/site-packages (from requests<3.0.0,>=2.13.0->spacy<2.4.0,>=2.3.0->en_core_web_sm==2.3.1) (3.0.4)\n",
      "Building wheels for collected packages: en-core-web-sm\n",
      "  Building wheel for en-core-web-sm (setup.py) ... \u001B[?25ldone\n",
      "\u001B[?25h  Created wheel for en-core-web-sm: filename=en_core_web_sm-2.3.1-py3-none-any.whl size=12047105 sha256=92c54a13feec2de5ce779d41c8fac80e63a54b8dd31a16e8d70d010651b2ddab\n",
      "  Stored in directory: /tmp/pip-ephem-wheel-cache-tpyk295r/wheels/ee/4d/f7/563214122be1540b5f9197b52cb3ddb9c4a8070808b22d5a84\n",
      "Successfully built en-core-web-sm\n",
      "Installing collected packages: en-core-web-sm\n",
      "Successfully installed en-core-web-sm-2.3.1\n",
      "\u001B[38;5;2m✔ Download and installation successful\u001B[0m\n",
      "You can now load the model via spacy.load('en_core_web_sm')\n"
     ]
    }
   ],
   "execution_count": 5,
   "metadata": {}
  },
  {
   "cell_type": "code",
   "source": [
    "import spacy\n",
    "import en_core_web_sm\n",
    "import csv"
   ],
   "outputs": [],
   "execution_count": 6,
   "metadata": {}
  },
  {
   "cell_type": "markdown",
   "source": [
    "We will store the model in an nlp object which is a language model instance."
   ],
   "metadata": {}
  },
  {
   "cell_type": "code",
   "source": [
    "nlp = en_core_web_sm.load()"
   ],
   "outputs": [],
   "execution_count": 7,
   "metadata": {}
  },
  {
   "cell_type": "markdown",
   "source": [
    "## Sentence Segmentation"
   ],
   "metadata": {}
  },
  {
   "cell_type": "markdown",
   "source": [
    "Sentence Segmentation is the process of locating the start and end of sentences in a given text. This allows you to you divide a text into linguistically meaningful units. You’ll use these units when you’re processing your text to perform tasks such as part of speech tagging and entity extraction."
   ],
   "metadata": {}
  },
  {
   "cell_type": "markdown",
   "source": [
    "First, let's load a cast biography from the provided sxample `tsv` file"
   ],
   "metadata": {}
  },
  {
   "cell_type": "code",
   "source": [
    "data = [[\"https://www.imdb.com/name/nm0000095\", \"\"\"Woody Allen was born Allan Stewart Konigsberg on December 1, 1935 in Brooklyn, New York, to Nettie (Cherrie), a bookkeeper, and Martin Konigsberg, a waiter and jewellery engraver. His father was of Russian Jewish descent, and his maternal grandparents were Austrian Jewish immigrants. As a young boy, he became intrigued with magic tricks and playing the clarinet, two hobbies that he continues today. Allen broke into show business at 15 years when he started writing jokes for a local paper, receiving $200 a week. He later moved on to write jokes for talk shows but felt that his jokes were being wasted. His agents, Charles Joffe and Jack Rollins, convinced him to start doing stand-up and telling his own jokes. Reluctantly he agreed and, although he initially performed with such fear of the audience that he would cover his ears when they applauded his jokes, he eventually became very successful at stand-up. After performing on stage for a few years, he was approached to write a script for Warren Beatty to star in: What's New Pussycat (1965) and would also have a moderate role as a character in the film. During production, Woody gave himself more and better lines and left Beatty with less compelling dialogue. Beatty inevitably quit the project and was replaced by Peter Sellers, who demanded all the best lines and more screen-time. It was from this experience that Woody realized that he could not work on a film without complete control over its production. Woody's theoretical directorial debut was in What's Up, Tiger Lily? (1966); a Japanese spy flick that he dubbed over with his own comedic dialogue about spies searching for the secret recipe for egg salad. His real directorial debut came the next year in the mockumentary Take the Money and Run (1969). He has written, directed and, more often than not, starred in about a film a year ever since, while simultaneously writing more than a dozen plays and several books of comedy. While best known for his romantic comedies Annie Hall (1977) and Manhattan (1979), Woody has made many transitions in his films throughout the years, transitioning from his \"early, funny ones\" of Bananas (1971), Love and Death (1975) and Everything You Always Wanted to Know About Sex * But Were Afraid to Ask (1972); to his more storied and romantic comedies of Annie Hall (1977), Manhattan (1979) and Hannah and Her Sisters (1986); to the Bergmanesque films of Stardust Memories (1980) and Interiors (1978); and then on to the more recent, but varied works of Crimes and Misdemeanors (1989), Husbands and Wives (1992), Mighty Aphrodite (1995), Celebrity (1998) and Deconstructing Harry (1997); and finally to his films of the last decade, which vary from the light comedy of Scoop (2006), to the self-destructive darkness of Match Point (2005) and, most recently, to the cinematically beautiful tale of Vicky Cristina Barcelona (2008). Although his stories and style have changed over the years, he is regarded as one of the best filmmakers of our time because of his views on art and his mastery of filmmaking.\"\"\"], [\"https://www.imdb.com/name/nm0001804\", \"\"\"Actor Stanley Tucci was born on November 11, 1960, in Peekskill, New York. He is the son of Joan (Tropiano), a writer, and Stanley Tucci, an art teacher. His family is Italian-American, with origins in Calabria. Tucci took an interest in acting while in high school, and went on to attend the State University of New York's Conservatory of Theater Arts in Purchase. He began his professional career on the stage, making his Broadway debut in 1982, and then made his film debut in Prizzi's Honor (1985). In 2009, Tucci received his first Academy Award nomination for his turn as a child murderer in The Lovely Bones (2009). He also received a BAFTA nomination and a Golden Globe nomination for the same role. Other than The Lovely Bones, Tucci has recently had noteworthy supporting turns in a broad range of movies including Lucky Number Slevin (2006), The Devil Wears Prada (2006) and Captain America: The First Avenger (2011). Tucci reached his widest audience yet when he played Caesar Flickerman in box office sensation The Hunger Games (2012). While maintaining an active career in movies, Tucci received major accolades for some work in television. He won an Emmy and a Golden Globe for his role in TV movie Winchell (1998), an Emmy for a guest turn on Monk (2002), and a Golden Globe for his role in HBO movie Conspiracy (2001). Tucci has also had an extensive career behind the camera. His directorial efforts include Big Night (1996), The Impostors (1998), Joe Gould's Secret (2000) and Blind Date (2007), and he did credited work on all of those screenplays with the exception of Joe Gould's Secret (2000). Tucci has three children with Kate Tucci, who passed away in 2009. Tucci married Felicity Blunt in August 2012.\"\"\"]]\n",
    "\n",
    "for (idx, (act, bio)) in enumerate(data):\n",
    "    print(f'[{idx:2d}] >', act)\n",
    "    biog = bio"
   ],
   "outputs": [
    {
     "output_type": "stream",
     "name": "stdout",
     "text": [
      "[ 0] > https://www.imdb.com/name/nm0000095\n[ 1] > https://www.imdb.com/name/nm0001804\n"
     ]
    }
   ],
   "execution_count": 12,
   "metadata": {}
  },
  {
   "cell_type": "markdown",
   "source": [
    "Here's the full biography text:"
   ],
   "metadata": {}
  },
  {
   "cell_type": "code",
   "source": [
    "biog"
   ],
   "outputs": [
    {
     "output_type": "execute_result",
     "data": {
      "text/plain": [
       "\"Actor Stanley Tucci was born on November 11, 1960, in Peekskill, New York. He is the son of Joan (Tropiano), a writer, and Stanley Tucci, an art teacher. His family is Italian-American, with origins in Calabria. Tucci took an interest in acting while in high school, and went on to attend the State University of New York's Conservatory of Theater Arts in Purchase. He began his professional career on the stage, making his Broadway debut in 1982, and then made his film debut in Prizzi's Honor (1985). In 2009, Tucci received his first Academy Award nomination for his turn as a child murderer in The Lovely Bones (2009). He also received a BAFTA nomination and a Golden Globe nomination for the same role. Other than The Lovely Bones, Tucci has recently had noteworthy supporting turns in a broad range of movies including Lucky Number Slevin (2006), The Devil Wears Prada (2006) and Captain America: The First Avenger (2011). Tucci reached his widest audience yet when he played Caesar Flickerman in box office sensation The Hunger Games (2012). While maintaining an active career in movies, Tucci received major accolades for some work in television. He won an Emmy and a Golden Globe for his role in TV movie Winchell (1998), an Emmy for a guest turn on Monk (2002), and a Golden Globe for his role in HBO movie Conspiracy (2001). Tucci has also had an extensive career behind the camera. His directorial efforts include Big Night (1996), The Impostors (1998), Joe Gould's Secret (2000) and Blind Date (2007), and he did credited work on all of those screenplays with the exception of Joe Gould's Secret (2000). Tucci has three children with Kate Tucci, who passed away in 2009. Tucci married Felicity Blunt in August 2012.\""
      ]
     },
     "metadata": {},
     "execution_count": 13
    }
   ],
   "execution_count": 13,
   "metadata": {}
  },
  {
   "cell_type": "markdown",
   "source": [
    "Let’s read a text using spaCy and store in a `doc` object which is a container for accessing linguistic annotations."
   ],
   "metadata": {}
  },
  {
   "cell_type": "code",
   "source": [
    "doc = nlp(biog)"
   ],
   "outputs": [],
   "execution_count": 14,
   "metadata": {}
  },
  {
   "cell_type": "markdown",
   "source": [
    "In spaCy, the `sents` property is used to extract sentences. Here’s how you would extract the sentences for a given input text:"
   ],
   "metadata": {}
  },
  {
   "cell_type": "code",
   "source": [
    "for idx, sent in enumerate(doc.sents):\n",
    "    print(f'[{idx:2d}] >', sent)\n",
    "    mysent = str(sent)"
   ],
   "outputs": [
    {
     "output_type": "stream",
     "name": "stdout",
     "text": [
      "[ 0] > Actor Stanley Tucci was born on November 11, 1960, in Peekskill, New York.\n[ 1] > He is the son of Joan (Tropiano), a writer, and Stanley Tucci, an art teacher.\n[ 2] > His family is Italian-American, with origins in Calabria.\n[ 3] > Tucci took an interest in acting while in high school, and went on to attend the State University of New York's Conservatory of Theater Arts in Purchase.\n[ 4] > He began his professional career on the stage, making his Broadway debut in 1982, and then made his film debut in Prizzi's Honor (1985).\n[ 5] > In 2009, Tucci received his first Academy Award nomination for his turn as a child murderer in The Lovely Bones (2009).\n[ 6] > He also received a BAFTA nomination and a Golden Globe nomination for the same role.\n[ 7] > Other than The Lovely Bones, Tucci has recently had noteworthy supporting turns in a broad range of movies including Lucky Number Slevin (2006), The Devil Wears Prada (2006) and Captain America: The First Avenger (2011).\n[ 8] > Tucci reached his widest audience yet when he played Caesar Flickerman in box office sensation The Hunger Games (2012).\n[ 9] > While maintaining an active career in movies, Tucci received major accolades for some work in television.\n[10] > He won an Emmy and a Golden Globe for his role in TV movie Winchell (1998), an Emmy for a guest turn on Monk (2002), and a Golden Globe for his role in HBO movie Conspiracy (2001).\n[11] > Tucci has also had an extensive career behind the camera.\n[12] > His directorial efforts include Big Night (1996), The Impostors (1998), Joe Gould's Secret (2000) and Blind Date (2007), and he did credited work on all of those screenplays with the exception of Joe Gould's Secret (2000).\n[13] > Tucci has three children with Kate Tucci, who passed away in 2009.\n[14] > Tucci married Felicity Blunt in August 2012.\n"
     ]
    }
   ],
   "execution_count": 15,
   "metadata": {}
  },
  {
   "cell_type": "markdown",
   "source": [
    "Here's the sentence we will work on moving forward:"
   ],
   "metadata": {}
  },
  {
   "cell_type": "code",
   "source": [
    "mysent"
   ],
   "outputs": [
    {
     "output_type": "execute_result",
     "data": {
      "text/plain": [
       "'Tucci married Felicity Blunt in August 2012.'"
      ]
     },
     "metadata": {},
     "execution_count": 16
    }
   ],
   "execution_count": 16,
   "metadata": {}
  },
  {
   "cell_type": "markdown",
   "source": [
    "## Tokenization & POS tagging"
   ],
   "metadata": {}
  },
  {
   "cell_type": "markdown",
   "source": [
    "Tokenization is the next step after sentence detection. It allows you to identify the basic units in your text. These basic units are called tokens. Tokenization is useful because it breaks a text into meaningful units. These units are used for further analysis, like part of speech tagging.\n",
    "\n",
    "Parts-of-speech (POS) is a grammatical role that explains how a particular word is used in a sentence. There are eight parts-of-speech: Noun, Pronoun, Adjective, Verb, Adverb, Preposition, Conjunction, Interjection.\n",
    "\n",
    "You can print tokens and their POS tages by iterating on the `doc` object:"
   ],
   "metadata": {}
  },
  {
   "cell_type": "code",
   "source": [
    "doc = nlp(mysent)\n",
    "for w in doc:\n",
    "    print(f'{w.text:15s} [{w.tag_:5s} | {w.pos_:6s} | {spacy.explain(w.tag_)}]')"
   ],
   "outputs": [
    {
     "output_type": "stream",
     "name": "stdout",
     "text": [
      "Tucci           [NNP   | PROPN  | noun, proper singular]\nmarried         [VBD   | VERB   | verb, past tense]\nFelicity        [NNP   | PROPN  | noun, proper singular]\nBlunt           [NNP   | PROPN  | noun, proper singular]\nin              [IN    | ADP    | conjunction, subordinating or preposition]\nAugust          [NNP   | PROPN  | noun, proper singular]\n2012            [CD    | NUM    | cardinal number]\n.               [.     | PUNCT  | punctuation mark, sentence closer]\n"
     ]
    }
   ],
   "execution_count": 17,
   "metadata": {}
  },
  {
   "cell_type": "markdown",
   "source": [
    "## Relation Extraction & Dependency Parsing"
   ],
   "metadata": {}
  },
  {
   "cell_type": "markdown",
   "source": [
    "The POS tags alone are not sufficient for various cases and require further analysis like dependency parsing. Dependency parsing is the process of extracting the dependency parse of a sentence to represent its grammatical structure. Now, let’s extract the dependency relations among entities:"
   ],
   "metadata": {}
  },
  {
   "cell_type": "code",
   "source": [
    "for w in doc: \n",
    "    print(f'{w.text:15s} [{w.dep_}]')"
   ],
   "outputs": [
    {
     "output_type": "stream",
     "name": "stdout",
     "text": [
      "Tucci           [nsubj]\nmarried         [ROOT]\nFelicity        [compound]\nBlunt           [dobj]\nin              [prep]\nAugust          [pobj]\n2012            [nummod]\n.               [punct]\n"
     ]
    }
   ],
   "execution_count": 18,
   "metadata": {}
  },
  {
   "cell_type": "markdown",
   "source": [
    "## Visualization: Using displaCy"
   ],
   "metadata": {}
  },
  {
   "cell_type": "markdown",
   "source": [
    "spaCy comes with a built-in visualizer called displaCy. You can use it to visualize a dependency parse or named entities in a browser or a Jupyter notebook."
   ],
   "metadata": {}
  },
  {
   "cell_type": "code",
   "source": [
    "from spacy import displacy\n",
    "options = {\"distance\": 120}\n",
    "displacy.render(doc, style=\"dep\", options=options)"
   ],
   "outputs": [
    {
     "output_type": "display_data",
     "data": {
      "text/plain": "<IPython.core.display.HTML object>",
      "text/html": "<span class=\"tex2jax_ignore\"><svg xmlns=\"http://www.w3.org/2000/svg\" xmlns:xlink=\"http://www.w3.org/1999/xlink\" xml:lang=\"en\" id=\"eace987067ec440eb4dfdbabae50dcd4-0\" class=\"displacy\" width=\"890\" height=\"317.0\" direction=\"ltr\" style=\"max-width: none; height: 317.0px; color: #000000; background: #ffffff; font-family: Arial; direction: ltr\">\n<text class=\"displacy-token\" fill=\"currentColor\" text-anchor=\"middle\" y=\"227.0\">\n    <tspan class=\"displacy-word\" fill=\"currentColor\" x=\"50\">Tucci</tspan>\n    <tspan class=\"displacy-tag\" dy=\"2em\" fill=\"currentColor\" x=\"50\">PROPN</tspan>\n</text>\n\n<text class=\"displacy-token\" fill=\"currentColor\" text-anchor=\"middle\" y=\"227.0\">\n    <tspan class=\"displacy-word\" fill=\"currentColor\" x=\"170\">married</tspan>\n    <tspan class=\"displacy-tag\" dy=\"2em\" fill=\"currentColor\" x=\"170\">VERB</tspan>\n</text>\n\n<text class=\"displacy-token\" fill=\"currentColor\" text-anchor=\"middle\" y=\"227.0\">\n    <tspan class=\"displacy-word\" fill=\"currentColor\" x=\"290\">Felicity</tspan>\n    <tspan class=\"displacy-tag\" dy=\"2em\" fill=\"currentColor\" x=\"290\">PROPN</tspan>\n</text>\n\n<text class=\"displacy-token\" fill=\"currentColor\" text-anchor=\"middle\" y=\"227.0\">\n    <tspan class=\"displacy-word\" fill=\"currentColor\" x=\"410\">Blunt</tspan>\n    <tspan class=\"displacy-tag\" dy=\"2em\" fill=\"currentColor\" x=\"410\">PROPN</tspan>\n</text>\n\n<text class=\"displacy-token\" fill=\"currentColor\" text-anchor=\"middle\" y=\"227.0\">\n    <tspan class=\"displacy-word\" fill=\"currentColor\" x=\"530\">in</tspan>\n    <tspan class=\"displacy-tag\" dy=\"2em\" fill=\"currentColor\" x=\"530\">ADP</tspan>\n</text>\n\n<text class=\"displacy-token\" fill=\"currentColor\" text-anchor=\"middle\" y=\"227.0\">\n    <tspan class=\"displacy-word\" fill=\"currentColor\" x=\"650\">August</tspan>\n    <tspan class=\"displacy-tag\" dy=\"2em\" fill=\"currentColor\" x=\"650\">PROPN</tspan>\n</text>\n\n<text class=\"displacy-token\" fill=\"currentColor\" text-anchor=\"middle\" y=\"227.0\">\n    <tspan class=\"displacy-word\" fill=\"currentColor\" x=\"770\">2012.</tspan>\n    <tspan class=\"displacy-tag\" dy=\"2em\" fill=\"currentColor\" x=\"770\">NUM</tspan>\n</text>\n\n<g class=\"displacy-arrow\">\n    <path class=\"displacy-arc\" id=\"arrow-eace987067ec440eb4dfdbabae50dcd4-0-0\" stroke-width=\"2px\" d=\"M70,182.0 C70,122.0 160.0,122.0 160.0,182.0\" fill=\"none\" stroke=\"currentColor\"/>\n    <text dy=\"1.25em\" style=\"font-size: 0.8em; letter-spacing: 1px\">\n        <textPath xlink:href=\"#arrow-eace987067ec440eb4dfdbabae50dcd4-0-0\" class=\"displacy-label\" startOffset=\"50%\" side=\"left\" fill=\"currentColor\" text-anchor=\"middle\">nsubj</textPath>\n    </text>\n    <path class=\"displacy-arrowhead\" d=\"M70,184.0 L62,172.0 78,172.0\" fill=\"currentColor\"/>\n</g>\n\n<g class=\"displacy-arrow\">\n    <path class=\"displacy-arc\" id=\"arrow-eace987067ec440eb4dfdbabae50dcd4-0-1\" stroke-width=\"2px\" d=\"M310,182.0 C310,122.0 400.0,122.0 400.0,182.0\" fill=\"none\" stroke=\"currentColor\"/>\n    <text dy=\"1.25em\" style=\"font-size: 0.8em; letter-spacing: 1px\">\n        <textPath xlink:href=\"#arrow-eace987067ec440eb4dfdbabae50dcd4-0-1\" class=\"displacy-label\" startOffset=\"50%\" side=\"left\" fill=\"currentColor\" text-anchor=\"middle\">compound</textPath>\n    </text>\n    <path class=\"displacy-arrowhead\" d=\"M310,184.0 L302,172.0 318,172.0\" fill=\"currentColor\"/>\n</g>\n\n<g class=\"displacy-arrow\">\n    <path class=\"displacy-arc\" id=\"arrow-eace987067ec440eb4dfdbabae50dcd4-0-2\" stroke-width=\"2px\" d=\"M190,182.0 C190,62.0 405.0,62.0 405.0,182.0\" fill=\"none\" stroke=\"currentColor\"/>\n    <text dy=\"1.25em\" style=\"font-size: 0.8em; letter-spacing: 1px\">\n        <textPath xlink:href=\"#arrow-eace987067ec440eb4dfdbabae50dcd4-0-2\" class=\"displacy-label\" startOffset=\"50%\" side=\"left\" fill=\"currentColor\" text-anchor=\"middle\">dobj</textPath>\n    </text>\n    <path class=\"displacy-arrowhead\" d=\"M405.0,184.0 L413.0,172.0 397.0,172.0\" fill=\"currentColor\"/>\n</g>\n\n<g class=\"displacy-arrow\">\n    <path class=\"displacy-arc\" id=\"arrow-eace987067ec440eb4dfdbabae50dcd4-0-3\" stroke-width=\"2px\" d=\"M190,182.0 C190,2.0 530.0,2.0 530.0,182.0\" fill=\"none\" stroke=\"currentColor\"/>\n    <text dy=\"1.25em\" style=\"font-size: 0.8em; letter-spacing: 1px\">\n        <textPath xlink:href=\"#arrow-eace987067ec440eb4dfdbabae50dcd4-0-3\" class=\"displacy-label\" startOffset=\"50%\" side=\"left\" fill=\"currentColor\" text-anchor=\"middle\">prep</textPath>\n    </text>\n    <path class=\"displacy-arrowhead\" d=\"M530.0,184.0 L538.0,172.0 522.0,172.0\" fill=\"currentColor\"/>\n</g>\n\n<g class=\"displacy-arrow\">\n    <path class=\"displacy-arc\" id=\"arrow-eace987067ec440eb4dfdbabae50dcd4-0-4\" stroke-width=\"2px\" d=\"M550,182.0 C550,122.0 640.0,122.0 640.0,182.0\" fill=\"none\" stroke=\"currentColor\"/>\n    <text dy=\"1.25em\" style=\"font-size: 0.8em; letter-spacing: 1px\">\n        <textPath xlink:href=\"#arrow-eace987067ec440eb4dfdbabae50dcd4-0-4\" class=\"displacy-label\" startOffset=\"50%\" side=\"left\" fill=\"currentColor\" text-anchor=\"middle\">pobj</textPath>\n    </text>\n    <path class=\"displacy-arrowhead\" d=\"M640.0,184.0 L648.0,172.0 632.0,172.0\" fill=\"currentColor\"/>\n</g>\n\n<g class=\"displacy-arrow\">\n    <path class=\"displacy-arc\" id=\"arrow-eace987067ec440eb4dfdbabae50dcd4-0-5\" stroke-width=\"2px\" d=\"M670,182.0 C670,122.0 760.0,122.0 760.0,182.0\" fill=\"none\" stroke=\"currentColor\"/>\n    <text dy=\"1.25em\" style=\"font-size: 0.8em; letter-spacing: 1px\">\n        <textPath xlink:href=\"#arrow-eace987067ec440eb4dfdbabae50dcd4-0-5\" class=\"displacy-label\" startOffset=\"50%\" side=\"left\" fill=\"currentColor\" text-anchor=\"middle\">nummod</textPath>\n    </text>\n    <path class=\"displacy-arrowhead\" d=\"M760.0,184.0 L768.0,172.0 752.0,172.0\" fill=\"currentColor\"/>\n</g>\n</svg></span>"
     },
     "metadata": {}
    }
   ],
   "execution_count": 19,
   "metadata": {}
  },
  {
   "cell_type": "markdown",
   "source": [
    "## Entity recognition"
   ],
   "metadata": {}
  },
  {
   "cell_type": "markdown",
   "source": [
    "Entity recognition is the process of classifying named entities found in a text into pre-defined categories, such as persons, places, organizations, dates, etc. spaCy uses a statistical model to classify a broad range of entities, including persons, events, works-of-art and nationalities / religion.\n",
    "\n",
    "Let's parse our sentence, then access the identified entities using the `doc` object's `.ents` method. With this method called on the `doc` we can access additional `token` methods, specifically `.label_`:"
   ],
   "metadata": {}
  },
  {
   "cell_type": "code",
   "source": [
    "for ent in doc.ents:\n",
    "    print(f'{ent.text:15s} [{ent.label_}]')"
   ],
   "outputs": [
    {
     "output_type": "stream",
     "name": "stdout",
     "text": [
      "Tucci           [PERSON]\nFelicity Blunt  [PERSON]\nAugust 2012     [DATE]\n"
     ]
    }
   ],
   "execution_count": 20,
   "metadata": {}
  },
  {
   "cell_type": "markdown",
   "source": [
    "## Rule-Based Matching"
   ],
   "metadata": {}
  },
  {
   "cell_type": "markdown",
   "source": [
    "Rule-based matching is one of the steps in extracting information from unstructured text. It’s used to identify and extract tokens and phrases according to patterns (such as lowercase) and grammatical features (such as part of speech).\n",
    "\n",
    "Rule-based matching can use regular expressions to extract entities or relations from an unstructured text. It’s different from extracting text using regular expressions only in the sense that regular expressions don’t consider the lexical and grammatical attributes of the text.\n",
    "\n",
    "The spaCy library comes with `Matcher` tool that can be used to specify custom rules for phrase matching. The process to use the `Matcher` tool is pretty straight forward. Here's an example:"
   ],
   "metadata": {}
  },
  {
   "cell_type": "code",
   "source": [
    "from spacy.matcher import Matcher\n",
    "\n",
    "# define the pattern \n",
    "pattern = [{'POS': 'PROPN'},\n",
    "           {'LOWER': 'married'},\n",
    "           {'ENT_TYPE': 'PERSON'}]\n",
    "   \n",
    "# Matcher class object \n",
    "matcher = Matcher(nlp.vocab) \n",
    "matcher.add(\"matching_1\", None, pattern) \n",
    "\n",
    "matches = matcher(doc) \n",
    "span = doc[matches[0][1]:matches[0][2]] \n",
    "print(span.text)"
   ],
   "outputs": [
    {
     "output_type": "stream",
     "name": "stdout",
     "text": [
      "Tucci married Felicity\n"
     ]
    }
   ],
   "execution_count": 21,
   "metadata": {
    "scrolled": true
   }
  },
  {
   "cell_type": "markdown",
   "source": [
    "**Notes**:\n",
    "- You can find additional examples and use-cases in [SpaCy's documentation](https://spacy.io/usage/rule-based-matching).\n",
    "- You can use the online [Rule-based Matcher Explorer](https://explosion.ai/demos/matcher) to test spaCy's rule-based `Matcher` by creating token patterns interactively and executing them.\n",
    "- Here's a nice [article](https://stackabuse.com/python-for-nlp-vocabulary-and-phrase-matching-with-spacy/) you can review. In the article, the author explores vocabulary and phrase matching using the spaCy library. He defines patterns and detects phrases that match the defined patterns. "
   ],
   "metadata": {}
  },
  {
   "cell_type": "markdown",
   "source": [
    "Now, you know how to perform some basic NLP tasks like sentence segmentation, tokenization, POS tagging, entity recognition, and - most important - Rule-Based Matching. You now have enough knowledge about how to get the entities and the relations between entities and extract structured data that can be used for downstream applications, such as building a Knowledge Graph! Congratulations!\n",
    "\n",
    "You can start applying this knowledge on the tasks you are required to do for Homework 02 of the class :)"
   ],
   "metadata": {}
  },
  {
   "cell_type": "code",
   "execution_count": 3,
   "outputs": [
    {
     "name": "stdout",
     "output_type": "stream",
     "text": [
      "Samuel compound Mendes PROPN []\n",
      "Alexander compound Mendes PROPN []\n",
      "Mendes nsubjpass born VERB [Samuel, Alexander]\n",
      "was auxpass born VERB []\n",
      "born ROOT born VERB [Mendes, was, on, to]\n",
      "on prep born VERB [August]\n",
      "August pobj on ADP [1, ,, 1965, in]\n",
      "1 nummod August PROPN []\n",
      ", punct August PROPN []\n",
      "1965 nummod August PROPN []\n",
      "in prep August PROPN [Reading]\n",
      "Reading pobj in ADP [,, England, ,, UK]\n",
      ", punct Reading PROPN []\n",
      "England conj Reading PROPN []\n",
      ", punct Reading PROPN []\n",
      "UK appos Reading PROPN []\n",
      "to prep born VERB [parents]\n",
      "parents pobj to ADP []\n",
      "James compound Mendes PROPN []\n",
      "Peter compound Mendes PROPN []\n",
      "Mendes ROOT Mendes PROPN [James, Peter, ,, lecturer, ,, and, Mendes, .]\n",
      ", punct Mendes PROPN []\n",
      "a det lecturer NOUN []\n",
      "retired amod lecturer NOUN []\n",
      "university compound lecturer NOUN []\n",
      "lecturer appos Mendes PROPN [a, retired, university, from]\n",
      "from prep lecturer NOUN [University]\n",
      "University pobj from ADP [of]\n",
      "of prep University PROPN [California]\n",
      "Southern compound California PROPN []\n",
      "California pobj of ADP [Southern]\n",
      ", punct Mendes PROPN []\n",
      "and cc Mendes PROPN []\n",
      "Valerie compound Mendes PROPN []\n",
      "Helene compound Mendes PROPN []\n",
      "Mendes conj Mendes PROPN [Valerie, Helene, ,, author]\n",
      ", punct Mendes PROPN []\n",
      "an det author NOUN []\n",
      "author appos Mendes PROPN [an]\n",
      ". punct Mendes PROPN []\n",
      "He nsubj attended VERB []\n",
      "later advmod attended VERB []\n",
      "attended ROOT attended VERB [He, later, School, .]\n",
      "New compound York PROPN []\n",
      "York poss School PROPN [New, 's]\n",
      "'s case York PROPN []\n",
      "High compound School PROPN []\n",
      "School dobj attended VERB [York, High, of, writes]\n",
      "of prep School PROPN [Arts]\n",
      "Performing compound Arts PROPN []\n",
      "Arts pobj of ADP [Performing]\n",
      "who nsubj writes VERB []\n",
      "writes relcl School PROPN [who, books]\n",
      "children poss books NOUN ['s]\n",
      "'s case children NOUN []\n",
      "books dobj writes VERB [children]\n",
      ". punct attended VERB []\n"
     ]
    },
    {
     "data": {
      "text/plain": "<IPython.core.display.HTML object>",
      "text/html": "<span class=\"tex2jax_ignore\"><svg xmlns=\"http://www.w3.org/2000/svg\" xmlns:xlink=\"http://www.w3.org/1999/xlink\" xml:lang=\"en\" id=\"406d404c3a534016b3353948fc32779d-0\" class=\"displacy\" width=\"5930\" height=\"617.0\" direction=\"ltr\" style=\"max-width: none; height: 617.0px; color: #000000; background: #ffffff; font-family: Arial; direction: ltr\">\n<text class=\"displacy-token\" fill=\"currentColor\" text-anchor=\"middle\" y=\"527.0\">\n    <tspan class=\"displacy-word\" fill=\"currentColor\" x=\"50\">Samuel</tspan>\n    <tspan class=\"displacy-tag\" dy=\"2em\" fill=\"currentColor\" x=\"50\">PROPN</tspan>\n</text>\n\n<text class=\"displacy-token\" fill=\"currentColor\" text-anchor=\"middle\" y=\"527.0\">\n    <tspan class=\"displacy-word\" fill=\"currentColor\" x=\"170\">Alexander</tspan>\n    <tspan class=\"displacy-tag\" dy=\"2em\" fill=\"currentColor\" x=\"170\">PROPN</tspan>\n</text>\n\n<text class=\"displacy-token\" fill=\"currentColor\" text-anchor=\"middle\" y=\"527.0\">\n    <tspan class=\"displacy-word\" fill=\"currentColor\" x=\"290\">Mendes</tspan>\n    <tspan class=\"displacy-tag\" dy=\"2em\" fill=\"currentColor\" x=\"290\">PROPN</tspan>\n</text>\n\n<text class=\"displacy-token\" fill=\"currentColor\" text-anchor=\"middle\" y=\"527.0\">\n    <tspan class=\"displacy-word\" fill=\"currentColor\" x=\"410\">was</tspan>\n    <tspan class=\"displacy-tag\" dy=\"2em\" fill=\"currentColor\" x=\"410\">AUX</tspan>\n</text>\n\n<text class=\"displacy-token\" fill=\"currentColor\" text-anchor=\"middle\" y=\"527.0\">\n    <tspan class=\"displacy-word\" fill=\"currentColor\" x=\"530\">born</tspan>\n    <tspan class=\"displacy-tag\" dy=\"2em\" fill=\"currentColor\" x=\"530\">VERB</tspan>\n</text>\n\n<text class=\"displacy-token\" fill=\"currentColor\" text-anchor=\"middle\" y=\"527.0\">\n    <tspan class=\"displacy-word\" fill=\"currentColor\" x=\"650\">on</tspan>\n    <tspan class=\"displacy-tag\" dy=\"2em\" fill=\"currentColor\" x=\"650\">ADP</tspan>\n</text>\n\n<text class=\"displacy-token\" fill=\"currentColor\" text-anchor=\"middle\" y=\"527.0\">\n    <tspan class=\"displacy-word\" fill=\"currentColor\" x=\"770\">August</tspan>\n    <tspan class=\"displacy-tag\" dy=\"2em\" fill=\"currentColor\" x=\"770\">PROPN</tspan>\n</text>\n\n<text class=\"displacy-token\" fill=\"currentColor\" text-anchor=\"middle\" y=\"527.0\">\n    <tspan class=\"displacy-word\" fill=\"currentColor\" x=\"890\">1,</tspan>\n    <tspan class=\"displacy-tag\" dy=\"2em\" fill=\"currentColor\" x=\"890\">NUM</tspan>\n</text>\n\n<text class=\"displacy-token\" fill=\"currentColor\" text-anchor=\"middle\" y=\"527.0\">\n    <tspan class=\"displacy-word\" fill=\"currentColor\" x=\"1010\">1965</tspan>\n    <tspan class=\"displacy-tag\" dy=\"2em\" fill=\"currentColor\" x=\"1010\">NUM</tspan>\n</text>\n\n<text class=\"displacy-token\" fill=\"currentColor\" text-anchor=\"middle\" y=\"527.0\">\n    <tspan class=\"displacy-word\" fill=\"currentColor\" x=\"1130\">in</tspan>\n    <tspan class=\"displacy-tag\" dy=\"2em\" fill=\"currentColor\" x=\"1130\">ADP</tspan>\n</text>\n\n<text class=\"displacy-token\" fill=\"currentColor\" text-anchor=\"middle\" y=\"527.0\">\n    <tspan class=\"displacy-word\" fill=\"currentColor\" x=\"1250\">Reading,</tspan>\n    <tspan class=\"displacy-tag\" dy=\"2em\" fill=\"currentColor\" x=\"1250\">PROPN</tspan>\n</text>\n\n<text class=\"displacy-token\" fill=\"currentColor\" text-anchor=\"middle\" y=\"527.0\">\n    <tspan class=\"displacy-word\" fill=\"currentColor\" x=\"1370\">England,</tspan>\n    <tspan class=\"displacy-tag\" dy=\"2em\" fill=\"currentColor\" x=\"1370\">PROPN</tspan>\n</text>\n\n<text class=\"displacy-token\" fill=\"currentColor\" text-anchor=\"middle\" y=\"527.0\">\n    <tspan class=\"displacy-word\" fill=\"currentColor\" x=\"1490\">UK</tspan>\n    <tspan class=\"displacy-tag\" dy=\"2em\" fill=\"currentColor\" x=\"1490\">PROPN</tspan>\n</text>\n\n<text class=\"displacy-token\" fill=\"currentColor\" text-anchor=\"middle\" y=\"527.0\">\n    <tspan class=\"displacy-word\" fill=\"currentColor\" x=\"1610\">to</tspan>\n    <tspan class=\"displacy-tag\" dy=\"2em\" fill=\"currentColor\" x=\"1610\">ADP</tspan>\n</text>\n\n<text class=\"displacy-token\" fill=\"currentColor\" text-anchor=\"middle\" y=\"527.0\">\n    <tspan class=\"displacy-word\" fill=\"currentColor\" x=\"1730\">parents</tspan>\n    <tspan class=\"displacy-tag\" dy=\"2em\" fill=\"currentColor\" x=\"1730\">NOUN</tspan>\n</text>\n\n<text class=\"displacy-token\" fill=\"currentColor\" text-anchor=\"middle\" y=\"527.0\">\n    <tspan class=\"displacy-word\" fill=\"currentColor\" x=\"1850\">James</tspan>\n    <tspan class=\"displacy-tag\" dy=\"2em\" fill=\"currentColor\" x=\"1850\">PROPN</tspan>\n</text>\n\n<text class=\"displacy-token\" fill=\"currentColor\" text-anchor=\"middle\" y=\"527.0\">\n    <tspan class=\"displacy-word\" fill=\"currentColor\" x=\"1970\">Peter</tspan>\n    <tspan class=\"displacy-tag\" dy=\"2em\" fill=\"currentColor\" x=\"1970\">PROPN</tspan>\n</text>\n\n<text class=\"displacy-token\" fill=\"currentColor\" text-anchor=\"middle\" y=\"527.0\">\n    <tspan class=\"displacy-word\" fill=\"currentColor\" x=\"2090\">Mendes,</tspan>\n    <tspan class=\"displacy-tag\" dy=\"2em\" fill=\"currentColor\" x=\"2090\">PROPN</tspan>\n</text>\n\n<text class=\"displacy-token\" fill=\"currentColor\" text-anchor=\"middle\" y=\"527.0\">\n    <tspan class=\"displacy-word\" fill=\"currentColor\" x=\"2210\">a</tspan>\n    <tspan class=\"displacy-tag\" dy=\"2em\" fill=\"currentColor\" x=\"2210\">DET</tspan>\n</text>\n\n<text class=\"displacy-token\" fill=\"currentColor\" text-anchor=\"middle\" y=\"527.0\">\n    <tspan class=\"displacy-word\" fill=\"currentColor\" x=\"2330\">retired</tspan>\n    <tspan class=\"displacy-tag\" dy=\"2em\" fill=\"currentColor\" x=\"2330\">ADJ</tspan>\n</text>\n\n<text class=\"displacy-token\" fill=\"currentColor\" text-anchor=\"middle\" y=\"527.0\">\n    <tspan class=\"displacy-word\" fill=\"currentColor\" x=\"2450\">university</tspan>\n    <tspan class=\"displacy-tag\" dy=\"2em\" fill=\"currentColor\" x=\"2450\">NOUN</tspan>\n</text>\n\n<text class=\"displacy-token\" fill=\"currentColor\" text-anchor=\"middle\" y=\"527.0\">\n    <tspan class=\"displacy-word\" fill=\"currentColor\" x=\"2570\">lecturer</tspan>\n    <tspan class=\"displacy-tag\" dy=\"2em\" fill=\"currentColor\" x=\"2570\">NOUN</tspan>\n</text>\n\n<text class=\"displacy-token\" fill=\"currentColor\" text-anchor=\"middle\" y=\"527.0\">\n    <tspan class=\"displacy-word\" fill=\"currentColor\" x=\"2690\">from</tspan>\n    <tspan class=\"displacy-tag\" dy=\"2em\" fill=\"currentColor\" x=\"2690\">ADP</tspan>\n</text>\n\n<text class=\"displacy-token\" fill=\"currentColor\" text-anchor=\"middle\" y=\"527.0\">\n    <tspan class=\"displacy-word\" fill=\"currentColor\" x=\"2810\">University</tspan>\n    <tspan class=\"displacy-tag\" dy=\"2em\" fill=\"currentColor\" x=\"2810\">PROPN</tspan>\n</text>\n\n<text class=\"displacy-token\" fill=\"currentColor\" text-anchor=\"middle\" y=\"527.0\">\n    <tspan class=\"displacy-word\" fill=\"currentColor\" x=\"2930\">of</tspan>\n    <tspan class=\"displacy-tag\" dy=\"2em\" fill=\"currentColor\" x=\"2930\">ADP</tspan>\n</text>\n\n<text class=\"displacy-token\" fill=\"currentColor\" text-anchor=\"middle\" y=\"527.0\">\n    <tspan class=\"displacy-word\" fill=\"currentColor\" x=\"3050\">Southern</tspan>\n    <tspan class=\"displacy-tag\" dy=\"2em\" fill=\"currentColor\" x=\"3050\">PROPN</tspan>\n</text>\n\n<text class=\"displacy-token\" fill=\"currentColor\" text-anchor=\"middle\" y=\"527.0\">\n    <tspan class=\"displacy-word\" fill=\"currentColor\" x=\"3170\">California,</tspan>\n    <tspan class=\"displacy-tag\" dy=\"2em\" fill=\"currentColor\" x=\"3170\">PROPN</tspan>\n</text>\n\n<text class=\"displacy-token\" fill=\"currentColor\" text-anchor=\"middle\" y=\"527.0\">\n    <tspan class=\"displacy-word\" fill=\"currentColor\" x=\"3290\">and</tspan>\n    <tspan class=\"displacy-tag\" dy=\"2em\" fill=\"currentColor\" x=\"3290\">CCONJ</tspan>\n</text>\n\n<text class=\"displacy-token\" fill=\"currentColor\" text-anchor=\"middle\" y=\"527.0\">\n    <tspan class=\"displacy-word\" fill=\"currentColor\" x=\"3410\">Valerie</tspan>\n    <tspan class=\"displacy-tag\" dy=\"2em\" fill=\"currentColor\" x=\"3410\">PROPN</tspan>\n</text>\n\n<text class=\"displacy-token\" fill=\"currentColor\" text-anchor=\"middle\" y=\"527.0\">\n    <tspan class=\"displacy-word\" fill=\"currentColor\" x=\"3530\">Helene</tspan>\n    <tspan class=\"displacy-tag\" dy=\"2em\" fill=\"currentColor\" x=\"3530\">PROPN</tspan>\n</text>\n\n<text class=\"displacy-token\" fill=\"currentColor\" text-anchor=\"middle\" y=\"527.0\">\n    <tspan class=\"displacy-word\" fill=\"currentColor\" x=\"3650\">Mendes,</tspan>\n    <tspan class=\"displacy-tag\" dy=\"2em\" fill=\"currentColor\" x=\"3650\">PROPN</tspan>\n</text>\n\n<text class=\"displacy-token\" fill=\"currentColor\" text-anchor=\"middle\" y=\"527.0\">\n    <tspan class=\"displacy-word\" fill=\"currentColor\" x=\"3770\">an</tspan>\n    <tspan class=\"displacy-tag\" dy=\"2em\" fill=\"currentColor\" x=\"3770\">DET</tspan>\n</text>\n\n<text class=\"displacy-token\" fill=\"currentColor\" text-anchor=\"middle\" y=\"527.0\">\n    <tspan class=\"displacy-word\" fill=\"currentColor\" x=\"3890\">author.</tspan>\n    <tspan class=\"displacy-tag\" dy=\"2em\" fill=\"currentColor\" x=\"3890\">NOUN</tspan>\n</text>\n\n<text class=\"displacy-token\" fill=\"currentColor\" text-anchor=\"middle\" y=\"527.0\">\n    <tspan class=\"displacy-word\" fill=\"currentColor\" x=\"4010\">He</tspan>\n    <tspan class=\"displacy-tag\" dy=\"2em\" fill=\"currentColor\" x=\"4010\">PRON</tspan>\n</text>\n\n<text class=\"displacy-token\" fill=\"currentColor\" text-anchor=\"middle\" y=\"527.0\">\n    <tspan class=\"displacy-word\" fill=\"currentColor\" x=\"4130\">later</tspan>\n    <tspan class=\"displacy-tag\" dy=\"2em\" fill=\"currentColor\" x=\"4130\">ADV</tspan>\n</text>\n\n<text class=\"displacy-token\" fill=\"currentColor\" text-anchor=\"middle\" y=\"527.0\">\n    <tspan class=\"displacy-word\" fill=\"currentColor\" x=\"4250\">attended</tspan>\n    <tspan class=\"displacy-tag\" dy=\"2em\" fill=\"currentColor\" x=\"4250\">VERB</tspan>\n</text>\n\n<text class=\"displacy-token\" fill=\"currentColor\" text-anchor=\"middle\" y=\"527.0\">\n    <tspan class=\"displacy-word\" fill=\"currentColor\" x=\"4370\">New</tspan>\n    <tspan class=\"displacy-tag\" dy=\"2em\" fill=\"currentColor\" x=\"4370\">PROPN</tspan>\n</text>\n\n<text class=\"displacy-token\" fill=\"currentColor\" text-anchor=\"middle\" y=\"527.0\">\n    <tspan class=\"displacy-word\" fill=\"currentColor\" x=\"4490\">York</tspan>\n    <tspan class=\"displacy-tag\" dy=\"2em\" fill=\"currentColor\" x=\"4490\">PROPN</tspan>\n</text>\n\n<text class=\"displacy-token\" fill=\"currentColor\" text-anchor=\"middle\" y=\"527.0\">\n    <tspan class=\"displacy-word\" fill=\"currentColor\" x=\"4610\">'s</tspan>\n    <tspan class=\"displacy-tag\" dy=\"2em\" fill=\"currentColor\" x=\"4610\">PART</tspan>\n</text>\n\n<text class=\"displacy-token\" fill=\"currentColor\" text-anchor=\"middle\" y=\"527.0\">\n    <tspan class=\"displacy-word\" fill=\"currentColor\" x=\"4730\">High</tspan>\n    <tspan class=\"displacy-tag\" dy=\"2em\" fill=\"currentColor\" x=\"4730\">PROPN</tspan>\n</text>\n\n<text class=\"displacy-token\" fill=\"currentColor\" text-anchor=\"middle\" y=\"527.0\">\n    <tspan class=\"displacy-word\" fill=\"currentColor\" x=\"4850\">School</tspan>\n    <tspan class=\"displacy-tag\" dy=\"2em\" fill=\"currentColor\" x=\"4850\">PROPN</tspan>\n</text>\n\n<text class=\"displacy-token\" fill=\"currentColor\" text-anchor=\"middle\" y=\"527.0\">\n    <tspan class=\"displacy-word\" fill=\"currentColor\" x=\"4970\">of</tspan>\n    <tspan class=\"displacy-tag\" dy=\"2em\" fill=\"currentColor\" x=\"4970\">ADP</tspan>\n</text>\n\n<text class=\"displacy-token\" fill=\"currentColor\" text-anchor=\"middle\" y=\"527.0\">\n    <tspan class=\"displacy-word\" fill=\"currentColor\" x=\"5090\">Performing</tspan>\n    <tspan class=\"displacy-tag\" dy=\"2em\" fill=\"currentColor\" x=\"5090\">PROPN</tspan>\n</text>\n\n<text class=\"displacy-token\" fill=\"currentColor\" text-anchor=\"middle\" y=\"527.0\">\n    <tspan class=\"displacy-word\" fill=\"currentColor\" x=\"5210\">Arts</tspan>\n    <tspan class=\"displacy-tag\" dy=\"2em\" fill=\"currentColor\" x=\"5210\">PROPN</tspan>\n</text>\n\n<text class=\"displacy-token\" fill=\"currentColor\" text-anchor=\"middle\" y=\"527.0\">\n    <tspan class=\"displacy-word\" fill=\"currentColor\" x=\"5330\">who</tspan>\n    <tspan class=\"displacy-tag\" dy=\"2em\" fill=\"currentColor\" x=\"5330\">PRON</tspan>\n</text>\n\n<text class=\"displacy-token\" fill=\"currentColor\" text-anchor=\"middle\" y=\"527.0\">\n    <tspan class=\"displacy-word\" fill=\"currentColor\" x=\"5450\">writes</tspan>\n    <tspan class=\"displacy-tag\" dy=\"2em\" fill=\"currentColor\" x=\"5450\">VERB</tspan>\n</text>\n\n<text class=\"displacy-token\" fill=\"currentColor\" text-anchor=\"middle\" y=\"527.0\">\n    <tspan class=\"displacy-word\" fill=\"currentColor\" x=\"5570\">children</tspan>\n    <tspan class=\"displacy-tag\" dy=\"2em\" fill=\"currentColor\" x=\"5570\">NOUN</tspan>\n</text>\n\n<text class=\"displacy-token\" fill=\"currentColor\" text-anchor=\"middle\" y=\"527.0\">\n    <tspan class=\"displacy-word\" fill=\"currentColor\" x=\"5690\">'s</tspan>\n    <tspan class=\"displacy-tag\" dy=\"2em\" fill=\"currentColor\" x=\"5690\">PART</tspan>\n</text>\n\n<text class=\"displacy-token\" fill=\"currentColor\" text-anchor=\"middle\" y=\"527.0\">\n    <tspan class=\"displacy-word\" fill=\"currentColor\" x=\"5810\">books.</tspan>\n    <tspan class=\"displacy-tag\" dy=\"2em\" fill=\"currentColor\" x=\"5810\">NOUN</tspan>\n</text>\n\n<g class=\"displacy-arrow\">\n    <path class=\"displacy-arc\" id=\"arrow-406d404c3a534016b3353948fc32779d-0-0\" stroke-width=\"2px\" d=\"M70,482.0 C70,362.0 260.0,362.0 260.0,482.0\" fill=\"none\" stroke=\"currentColor\"/>\n    <text dy=\"1.25em\" style=\"font-size: 0.8em; letter-spacing: 1px\">\n        <textPath xlink:href=\"#arrow-406d404c3a534016b3353948fc32779d-0-0\" class=\"displacy-label\" startOffset=\"50%\" side=\"left\" fill=\"currentColor\" text-anchor=\"middle\">compound</textPath>\n    </text>\n    <path class=\"displacy-arrowhead\" d=\"M70,484.0 L62,472.0 78,472.0\" fill=\"currentColor\"/>\n</g>\n\n<g class=\"displacy-arrow\">\n    <path class=\"displacy-arc\" id=\"arrow-406d404c3a534016b3353948fc32779d-0-1\" stroke-width=\"2px\" d=\"M190,482.0 C190,422.0 255.0,422.0 255.0,482.0\" fill=\"none\" stroke=\"currentColor\"/>\n    <text dy=\"1.25em\" style=\"font-size: 0.8em; letter-spacing: 1px\">\n        <textPath xlink:href=\"#arrow-406d404c3a534016b3353948fc32779d-0-1\" class=\"displacy-label\" startOffset=\"50%\" side=\"left\" fill=\"currentColor\" text-anchor=\"middle\">compound</textPath>\n    </text>\n    <path class=\"displacy-arrowhead\" d=\"M190,484.0 L182,472.0 198,472.0\" fill=\"currentColor\"/>\n</g>\n\n<g class=\"displacy-arrow\">\n    <path class=\"displacy-arc\" id=\"arrow-406d404c3a534016b3353948fc32779d-0-2\" stroke-width=\"2px\" d=\"M310,482.0 C310,362.0 500.0,362.0 500.0,482.0\" fill=\"none\" stroke=\"currentColor\"/>\n    <text dy=\"1.25em\" style=\"font-size: 0.8em; letter-spacing: 1px\">\n        <textPath xlink:href=\"#arrow-406d404c3a534016b3353948fc32779d-0-2\" class=\"displacy-label\" startOffset=\"50%\" side=\"left\" fill=\"currentColor\" text-anchor=\"middle\">nsubjpass</textPath>\n    </text>\n    <path class=\"displacy-arrowhead\" d=\"M310,484.0 L302,472.0 318,472.0\" fill=\"currentColor\"/>\n</g>\n\n<g class=\"displacy-arrow\">\n    <path class=\"displacy-arc\" id=\"arrow-406d404c3a534016b3353948fc32779d-0-3\" stroke-width=\"2px\" d=\"M430,482.0 C430,422.0 495.0,422.0 495.0,482.0\" fill=\"none\" stroke=\"currentColor\"/>\n    <text dy=\"1.25em\" style=\"font-size: 0.8em; letter-spacing: 1px\">\n        <textPath xlink:href=\"#arrow-406d404c3a534016b3353948fc32779d-0-3\" class=\"displacy-label\" startOffset=\"50%\" side=\"left\" fill=\"currentColor\" text-anchor=\"middle\">auxpass</textPath>\n    </text>\n    <path class=\"displacy-arrowhead\" d=\"M430,484.0 L422,472.0 438,472.0\" fill=\"currentColor\"/>\n</g>\n\n<g class=\"displacy-arrow\">\n    <path class=\"displacy-arc\" id=\"arrow-406d404c3a534016b3353948fc32779d-0-4\" stroke-width=\"2px\" d=\"M550,482.0 C550,422.0 615.0,422.0 615.0,482.0\" fill=\"none\" stroke=\"currentColor\"/>\n    <text dy=\"1.25em\" style=\"font-size: 0.8em; letter-spacing: 1px\">\n        <textPath xlink:href=\"#arrow-406d404c3a534016b3353948fc32779d-0-4\" class=\"displacy-label\" startOffset=\"50%\" side=\"left\" fill=\"currentColor\" text-anchor=\"middle\">prep</textPath>\n    </text>\n    <path class=\"displacy-arrowhead\" d=\"M615.0,484.0 L623.0,472.0 607.0,472.0\" fill=\"currentColor\"/>\n</g>\n\n<g class=\"displacy-arrow\">\n    <path class=\"displacy-arc\" id=\"arrow-406d404c3a534016b3353948fc32779d-0-5\" stroke-width=\"2px\" d=\"M670,482.0 C670,422.0 735.0,422.0 735.0,482.0\" fill=\"none\" stroke=\"currentColor\"/>\n    <text dy=\"1.25em\" style=\"font-size: 0.8em; letter-spacing: 1px\">\n        <textPath xlink:href=\"#arrow-406d404c3a534016b3353948fc32779d-0-5\" class=\"displacy-label\" startOffset=\"50%\" side=\"left\" fill=\"currentColor\" text-anchor=\"middle\">pobj</textPath>\n    </text>\n    <path class=\"displacy-arrowhead\" d=\"M735.0,484.0 L743.0,472.0 727.0,472.0\" fill=\"currentColor\"/>\n</g>\n\n<g class=\"displacy-arrow\">\n    <path class=\"displacy-arc\" id=\"arrow-406d404c3a534016b3353948fc32779d-0-6\" stroke-width=\"2px\" d=\"M790,482.0 C790,422.0 855.0,422.0 855.0,482.0\" fill=\"none\" stroke=\"currentColor\"/>\n    <text dy=\"1.25em\" style=\"font-size: 0.8em; letter-spacing: 1px\">\n        <textPath xlink:href=\"#arrow-406d404c3a534016b3353948fc32779d-0-6\" class=\"displacy-label\" startOffset=\"50%\" side=\"left\" fill=\"currentColor\" text-anchor=\"middle\">nummod</textPath>\n    </text>\n    <path class=\"displacy-arrowhead\" d=\"M855.0,484.0 L863.0,472.0 847.0,472.0\" fill=\"currentColor\"/>\n</g>\n\n<g class=\"displacy-arrow\">\n    <path class=\"displacy-arc\" id=\"arrow-406d404c3a534016b3353948fc32779d-0-7\" stroke-width=\"2px\" d=\"M790,482.0 C790,362.0 980.0,362.0 980.0,482.0\" fill=\"none\" stroke=\"currentColor\"/>\n    <text dy=\"1.25em\" style=\"font-size: 0.8em; letter-spacing: 1px\">\n        <textPath xlink:href=\"#arrow-406d404c3a534016b3353948fc32779d-0-7\" class=\"displacy-label\" startOffset=\"50%\" side=\"left\" fill=\"currentColor\" text-anchor=\"middle\">nummod</textPath>\n    </text>\n    <path class=\"displacy-arrowhead\" d=\"M980.0,484.0 L988.0,472.0 972.0,472.0\" fill=\"currentColor\"/>\n</g>\n\n<g class=\"displacy-arrow\">\n    <path class=\"displacy-arc\" id=\"arrow-406d404c3a534016b3353948fc32779d-0-8\" stroke-width=\"2px\" d=\"M790,482.0 C790,302.0 1105.0,302.0 1105.0,482.0\" fill=\"none\" stroke=\"currentColor\"/>\n    <text dy=\"1.25em\" style=\"font-size: 0.8em; letter-spacing: 1px\">\n        <textPath xlink:href=\"#arrow-406d404c3a534016b3353948fc32779d-0-8\" class=\"displacy-label\" startOffset=\"50%\" side=\"left\" fill=\"currentColor\" text-anchor=\"middle\">prep</textPath>\n    </text>\n    <path class=\"displacy-arrowhead\" d=\"M1105.0,484.0 L1113.0,472.0 1097.0,472.0\" fill=\"currentColor\"/>\n</g>\n\n<g class=\"displacy-arrow\">\n    <path class=\"displacy-arc\" id=\"arrow-406d404c3a534016b3353948fc32779d-0-9\" stroke-width=\"2px\" d=\"M1150,482.0 C1150,422.0 1215.0,422.0 1215.0,482.0\" fill=\"none\" stroke=\"currentColor\"/>\n    <text dy=\"1.25em\" style=\"font-size: 0.8em; letter-spacing: 1px\">\n        <textPath xlink:href=\"#arrow-406d404c3a534016b3353948fc32779d-0-9\" class=\"displacy-label\" startOffset=\"50%\" side=\"left\" fill=\"currentColor\" text-anchor=\"middle\">pobj</textPath>\n    </text>\n    <path class=\"displacy-arrowhead\" d=\"M1215.0,484.0 L1223.0,472.0 1207.0,472.0\" fill=\"currentColor\"/>\n</g>\n\n<g class=\"displacy-arrow\">\n    <path class=\"displacy-arc\" id=\"arrow-406d404c3a534016b3353948fc32779d-0-10\" stroke-width=\"2px\" d=\"M1270,482.0 C1270,422.0 1335.0,422.0 1335.0,482.0\" fill=\"none\" stroke=\"currentColor\"/>\n    <text dy=\"1.25em\" style=\"font-size: 0.8em; letter-spacing: 1px\">\n        <textPath xlink:href=\"#arrow-406d404c3a534016b3353948fc32779d-0-10\" class=\"displacy-label\" startOffset=\"50%\" side=\"left\" fill=\"currentColor\" text-anchor=\"middle\">conj</textPath>\n    </text>\n    <path class=\"displacy-arrowhead\" d=\"M1335.0,484.0 L1343.0,472.0 1327.0,472.0\" fill=\"currentColor\"/>\n</g>\n\n<g class=\"displacy-arrow\">\n    <path class=\"displacy-arc\" id=\"arrow-406d404c3a534016b3353948fc32779d-0-11\" stroke-width=\"2px\" d=\"M1270,482.0 C1270,362.0 1460.0,362.0 1460.0,482.0\" fill=\"none\" stroke=\"currentColor\"/>\n    <text dy=\"1.25em\" style=\"font-size: 0.8em; letter-spacing: 1px\">\n        <textPath xlink:href=\"#arrow-406d404c3a534016b3353948fc32779d-0-11\" class=\"displacy-label\" startOffset=\"50%\" side=\"left\" fill=\"currentColor\" text-anchor=\"middle\">appos</textPath>\n    </text>\n    <path class=\"displacy-arrowhead\" d=\"M1460.0,484.0 L1468.0,472.0 1452.0,472.0\" fill=\"currentColor\"/>\n</g>\n\n<g class=\"displacy-arrow\">\n    <path class=\"displacy-arc\" id=\"arrow-406d404c3a534016b3353948fc32779d-0-12\" stroke-width=\"2px\" d=\"M550,482.0 C550,122.0 1600.0,122.0 1600.0,482.0\" fill=\"none\" stroke=\"currentColor\"/>\n    <text dy=\"1.25em\" style=\"font-size: 0.8em; letter-spacing: 1px\">\n        <textPath xlink:href=\"#arrow-406d404c3a534016b3353948fc32779d-0-12\" class=\"displacy-label\" startOffset=\"50%\" side=\"left\" fill=\"currentColor\" text-anchor=\"middle\">prep</textPath>\n    </text>\n    <path class=\"displacy-arrowhead\" d=\"M1600.0,484.0 L1608.0,472.0 1592.0,472.0\" fill=\"currentColor\"/>\n</g>\n\n<g class=\"displacy-arrow\">\n    <path class=\"displacy-arc\" id=\"arrow-406d404c3a534016b3353948fc32779d-0-13\" stroke-width=\"2px\" d=\"M1630,482.0 C1630,422.0 1695.0,422.0 1695.0,482.0\" fill=\"none\" stroke=\"currentColor\"/>\n    <text dy=\"1.25em\" style=\"font-size: 0.8em; letter-spacing: 1px\">\n        <textPath xlink:href=\"#arrow-406d404c3a534016b3353948fc32779d-0-13\" class=\"displacy-label\" startOffset=\"50%\" side=\"left\" fill=\"currentColor\" text-anchor=\"middle\">pobj</textPath>\n    </text>\n    <path class=\"displacy-arrowhead\" d=\"M1695.0,484.0 L1703.0,472.0 1687.0,472.0\" fill=\"currentColor\"/>\n</g>\n\n<g class=\"displacy-arrow\">\n    <path class=\"displacy-arc\" id=\"arrow-406d404c3a534016b3353948fc32779d-0-14\" stroke-width=\"2px\" d=\"M1870,482.0 C1870,362.0 2060.0,362.0 2060.0,482.0\" fill=\"none\" stroke=\"currentColor\"/>\n    <text dy=\"1.25em\" style=\"font-size: 0.8em; letter-spacing: 1px\">\n        <textPath xlink:href=\"#arrow-406d404c3a534016b3353948fc32779d-0-14\" class=\"displacy-label\" startOffset=\"50%\" side=\"left\" fill=\"currentColor\" text-anchor=\"middle\">compound</textPath>\n    </text>\n    <path class=\"displacy-arrowhead\" d=\"M1870,484.0 L1862,472.0 1878,472.0\" fill=\"currentColor\"/>\n</g>\n\n<g class=\"displacy-arrow\">\n    <path class=\"displacy-arc\" id=\"arrow-406d404c3a534016b3353948fc32779d-0-15\" stroke-width=\"2px\" d=\"M1990,482.0 C1990,422.0 2055.0,422.0 2055.0,482.0\" fill=\"none\" stroke=\"currentColor\"/>\n    <text dy=\"1.25em\" style=\"font-size: 0.8em; letter-spacing: 1px\">\n        <textPath xlink:href=\"#arrow-406d404c3a534016b3353948fc32779d-0-15\" class=\"displacy-label\" startOffset=\"50%\" side=\"left\" fill=\"currentColor\" text-anchor=\"middle\">compound</textPath>\n    </text>\n    <path class=\"displacy-arrowhead\" d=\"M1990,484.0 L1982,472.0 1998,472.0\" fill=\"currentColor\"/>\n</g>\n\n<g class=\"displacy-arrow\">\n    <path class=\"displacy-arc\" id=\"arrow-406d404c3a534016b3353948fc32779d-0-16\" stroke-width=\"2px\" d=\"M2230,482.0 C2230,302.0 2545.0,302.0 2545.0,482.0\" fill=\"none\" stroke=\"currentColor\"/>\n    <text dy=\"1.25em\" style=\"font-size: 0.8em; letter-spacing: 1px\">\n        <textPath xlink:href=\"#arrow-406d404c3a534016b3353948fc32779d-0-16\" class=\"displacy-label\" startOffset=\"50%\" side=\"left\" fill=\"currentColor\" text-anchor=\"middle\">det</textPath>\n    </text>\n    <path class=\"displacy-arrowhead\" d=\"M2230,484.0 L2222,472.0 2238,472.0\" fill=\"currentColor\"/>\n</g>\n\n<g class=\"displacy-arrow\">\n    <path class=\"displacy-arc\" id=\"arrow-406d404c3a534016b3353948fc32779d-0-17\" stroke-width=\"2px\" d=\"M2350,482.0 C2350,362.0 2540.0,362.0 2540.0,482.0\" fill=\"none\" stroke=\"currentColor\"/>\n    <text dy=\"1.25em\" style=\"font-size: 0.8em; letter-spacing: 1px\">\n        <textPath xlink:href=\"#arrow-406d404c3a534016b3353948fc32779d-0-17\" class=\"displacy-label\" startOffset=\"50%\" side=\"left\" fill=\"currentColor\" text-anchor=\"middle\">amod</textPath>\n    </text>\n    <path class=\"displacy-arrowhead\" d=\"M2350,484.0 L2342,472.0 2358,472.0\" fill=\"currentColor\"/>\n</g>\n\n<g class=\"displacy-arrow\">\n    <path class=\"displacy-arc\" id=\"arrow-406d404c3a534016b3353948fc32779d-0-18\" stroke-width=\"2px\" d=\"M2470,482.0 C2470,422.0 2535.0,422.0 2535.0,482.0\" fill=\"none\" stroke=\"currentColor\"/>\n    <text dy=\"1.25em\" style=\"font-size: 0.8em; letter-spacing: 1px\">\n        <textPath xlink:href=\"#arrow-406d404c3a534016b3353948fc32779d-0-18\" class=\"displacy-label\" startOffset=\"50%\" side=\"left\" fill=\"currentColor\" text-anchor=\"middle\">compound</textPath>\n    </text>\n    <path class=\"displacy-arrowhead\" d=\"M2470,484.0 L2462,472.0 2478,472.0\" fill=\"currentColor\"/>\n</g>\n\n<g class=\"displacy-arrow\">\n    <path class=\"displacy-arc\" id=\"arrow-406d404c3a534016b3353948fc32779d-0-19\" stroke-width=\"2px\" d=\"M2110,482.0 C2110,242.0 2550.0,242.0 2550.0,482.0\" fill=\"none\" stroke=\"currentColor\"/>\n    <text dy=\"1.25em\" style=\"font-size: 0.8em; letter-spacing: 1px\">\n        <textPath xlink:href=\"#arrow-406d404c3a534016b3353948fc32779d-0-19\" class=\"displacy-label\" startOffset=\"50%\" side=\"left\" fill=\"currentColor\" text-anchor=\"middle\">appos</textPath>\n    </text>\n    <path class=\"displacy-arrowhead\" d=\"M2550.0,484.0 L2558.0,472.0 2542.0,472.0\" fill=\"currentColor\"/>\n</g>\n\n<g class=\"displacy-arrow\">\n    <path class=\"displacy-arc\" id=\"arrow-406d404c3a534016b3353948fc32779d-0-20\" stroke-width=\"2px\" d=\"M2590,482.0 C2590,422.0 2655.0,422.0 2655.0,482.0\" fill=\"none\" stroke=\"currentColor\"/>\n    <text dy=\"1.25em\" style=\"font-size: 0.8em; letter-spacing: 1px\">\n        <textPath xlink:href=\"#arrow-406d404c3a534016b3353948fc32779d-0-20\" class=\"displacy-label\" startOffset=\"50%\" side=\"left\" fill=\"currentColor\" text-anchor=\"middle\">prep</textPath>\n    </text>\n    <path class=\"displacy-arrowhead\" d=\"M2655.0,484.0 L2663.0,472.0 2647.0,472.0\" fill=\"currentColor\"/>\n</g>\n\n<g class=\"displacy-arrow\">\n    <path class=\"displacy-arc\" id=\"arrow-406d404c3a534016b3353948fc32779d-0-21\" stroke-width=\"2px\" d=\"M2710,482.0 C2710,422.0 2775.0,422.0 2775.0,482.0\" fill=\"none\" stroke=\"currentColor\"/>\n    <text dy=\"1.25em\" style=\"font-size: 0.8em; letter-spacing: 1px\">\n        <textPath xlink:href=\"#arrow-406d404c3a534016b3353948fc32779d-0-21\" class=\"displacy-label\" startOffset=\"50%\" side=\"left\" fill=\"currentColor\" text-anchor=\"middle\">pobj</textPath>\n    </text>\n    <path class=\"displacy-arrowhead\" d=\"M2775.0,484.0 L2783.0,472.0 2767.0,472.0\" fill=\"currentColor\"/>\n</g>\n\n<g class=\"displacy-arrow\">\n    <path class=\"displacy-arc\" id=\"arrow-406d404c3a534016b3353948fc32779d-0-22\" stroke-width=\"2px\" d=\"M2830,482.0 C2830,422.0 2895.0,422.0 2895.0,482.0\" fill=\"none\" stroke=\"currentColor\"/>\n    <text dy=\"1.25em\" style=\"font-size: 0.8em; letter-spacing: 1px\">\n        <textPath xlink:href=\"#arrow-406d404c3a534016b3353948fc32779d-0-22\" class=\"displacy-label\" startOffset=\"50%\" side=\"left\" fill=\"currentColor\" text-anchor=\"middle\">prep</textPath>\n    </text>\n    <path class=\"displacy-arrowhead\" d=\"M2895.0,484.0 L2903.0,472.0 2887.0,472.0\" fill=\"currentColor\"/>\n</g>\n\n<g class=\"displacy-arrow\">\n    <path class=\"displacy-arc\" id=\"arrow-406d404c3a534016b3353948fc32779d-0-23\" stroke-width=\"2px\" d=\"M3070,482.0 C3070,422.0 3135.0,422.0 3135.0,482.0\" fill=\"none\" stroke=\"currentColor\"/>\n    <text dy=\"1.25em\" style=\"font-size: 0.8em; letter-spacing: 1px\">\n        <textPath xlink:href=\"#arrow-406d404c3a534016b3353948fc32779d-0-23\" class=\"displacy-label\" startOffset=\"50%\" side=\"left\" fill=\"currentColor\" text-anchor=\"middle\">compound</textPath>\n    </text>\n    <path class=\"displacy-arrowhead\" d=\"M3070,484.0 L3062,472.0 3078,472.0\" fill=\"currentColor\"/>\n</g>\n\n<g class=\"displacy-arrow\">\n    <path class=\"displacy-arc\" id=\"arrow-406d404c3a534016b3353948fc32779d-0-24\" stroke-width=\"2px\" d=\"M2950,482.0 C2950,362.0 3140.0,362.0 3140.0,482.0\" fill=\"none\" stroke=\"currentColor\"/>\n    <text dy=\"1.25em\" style=\"font-size: 0.8em; letter-spacing: 1px\">\n        <textPath xlink:href=\"#arrow-406d404c3a534016b3353948fc32779d-0-24\" class=\"displacy-label\" startOffset=\"50%\" side=\"left\" fill=\"currentColor\" text-anchor=\"middle\">pobj</textPath>\n    </text>\n    <path class=\"displacy-arrowhead\" d=\"M3140.0,484.0 L3148.0,472.0 3132.0,472.0\" fill=\"currentColor\"/>\n</g>\n\n<g class=\"displacy-arrow\">\n    <path class=\"displacy-arc\" id=\"arrow-406d404c3a534016b3353948fc32779d-0-25\" stroke-width=\"2px\" d=\"M2110,482.0 C2110,62.0 3285.0,62.0 3285.0,482.0\" fill=\"none\" stroke=\"currentColor\"/>\n    <text dy=\"1.25em\" style=\"font-size: 0.8em; letter-spacing: 1px\">\n        <textPath xlink:href=\"#arrow-406d404c3a534016b3353948fc32779d-0-25\" class=\"displacy-label\" startOffset=\"50%\" side=\"left\" fill=\"currentColor\" text-anchor=\"middle\">cc</textPath>\n    </text>\n    <path class=\"displacy-arrowhead\" d=\"M3285.0,484.0 L3293.0,472.0 3277.0,472.0\" fill=\"currentColor\"/>\n</g>\n\n<g class=\"displacy-arrow\">\n    <path class=\"displacy-arc\" id=\"arrow-406d404c3a534016b3353948fc32779d-0-26\" stroke-width=\"2px\" d=\"M3430,482.0 C3430,362.0 3620.0,362.0 3620.0,482.0\" fill=\"none\" stroke=\"currentColor\"/>\n    <text dy=\"1.25em\" style=\"font-size: 0.8em; letter-spacing: 1px\">\n        <textPath xlink:href=\"#arrow-406d404c3a534016b3353948fc32779d-0-26\" class=\"displacy-label\" startOffset=\"50%\" side=\"left\" fill=\"currentColor\" text-anchor=\"middle\">compound</textPath>\n    </text>\n    <path class=\"displacy-arrowhead\" d=\"M3430,484.0 L3422,472.0 3438,472.0\" fill=\"currentColor\"/>\n</g>\n\n<g class=\"displacy-arrow\">\n    <path class=\"displacy-arc\" id=\"arrow-406d404c3a534016b3353948fc32779d-0-27\" stroke-width=\"2px\" d=\"M3550,482.0 C3550,422.0 3615.0,422.0 3615.0,482.0\" fill=\"none\" stroke=\"currentColor\"/>\n    <text dy=\"1.25em\" style=\"font-size: 0.8em; letter-spacing: 1px\">\n        <textPath xlink:href=\"#arrow-406d404c3a534016b3353948fc32779d-0-27\" class=\"displacy-label\" startOffset=\"50%\" side=\"left\" fill=\"currentColor\" text-anchor=\"middle\">compound</textPath>\n    </text>\n    <path class=\"displacy-arrowhead\" d=\"M3550,484.0 L3542,472.0 3558,472.0\" fill=\"currentColor\"/>\n</g>\n\n<g class=\"displacy-arrow\">\n    <path class=\"displacy-arc\" id=\"arrow-406d404c3a534016b3353948fc32779d-0-28\" stroke-width=\"2px\" d=\"M2110,482.0 C2110,2.0 3650.0,2.0 3650.0,482.0\" fill=\"none\" stroke=\"currentColor\"/>\n    <text dy=\"1.25em\" style=\"font-size: 0.8em; letter-spacing: 1px\">\n        <textPath xlink:href=\"#arrow-406d404c3a534016b3353948fc32779d-0-28\" class=\"displacy-label\" startOffset=\"50%\" side=\"left\" fill=\"currentColor\" text-anchor=\"middle\">conj</textPath>\n    </text>\n    <path class=\"displacy-arrowhead\" d=\"M3650.0,484.0 L3658.0,472.0 3642.0,472.0\" fill=\"currentColor\"/>\n</g>\n\n<g class=\"displacy-arrow\">\n    <path class=\"displacy-arc\" id=\"arrow-406d404c3a534016b3353948fc32779d-0-29\" stroke-width=\"2px\" d=\"M3790,482.0 C3790,422.0 3855.0,422.0 3855.0,482.0\" fill=\"none\" stroke=\"currentColor\"/>\n    <text dy=\"1.25em\" style=\"font-size: 0.8em; letter-spacing: 1px\">\n        <textPath xlink:href=\"#arrow-406d404c3a534016b3353948fc32779d-0-29\" class=\"displacy-label\" startOffset=\"50%\" side=\"left\" fill=\"currentColor\" text-anchor=\"middle\">det</textPath>\n    </text>\n    <path class=\"displacy-arrowhead\" d=\"M3790,484.0 L3782,472.0 3798,472.0\" fill=\"currentColor\"/>\n</g>\n\n<g class=\"displacy-arrow\">\n    <path class=\"displacy-arc\" id=\"arrow-406d404c3a534016b3353948fc32779d-0-30\" stroke-width=\"2px\" d=\"M3670,482.0 C3670,362.0 3860.0,362.0 3860.0,482.0\" fill=\"none\" stroke=\"currentColor\"/>\n    <text dy=\"1.25em\" style=\"font-size: 0.8em; letter-spacing: 1px\">\n        <textPath xlink:href=\"#arrow-406d404c3a534016b3353948fc32779d-0-30\" class=\"displacy-label\" startOffset=\"50%\" side=\"left\" fill=\"currentColor\" text-anchor=\"middle\">appos</textPath>\n    </text>\n    <path class=\"displacy-arrowhead\" d=\"M3860.0,484.0 L3868.0,472.0 3852.0,472.0\" fill=\"currentColor\"/>\n</g>\n\n<g class=\"displacy-arrow\">\n    <path class=\"displacy-arc\" id=\"arrow-406d404c3a534016b3353948fc32779d-0-31\" stroke-width=\"2px\" d=\"M4030,482.0 C4030,362.0 4220.0,362.0 4220.0,482.0\" fill=\"none\" stroke=\"currentColor\"/>\n    <text dy=\"1.25em\" style=\"font-size: 0.8em; letter-spacing: 1px\">\n        <textPath xlink:href=\"#arrow-406d404c3a534016b3353948fc32779d-0-31\" class=\"displacy-label\" startOffset=\"50%\" side=\"left\" fill=\"currentColor\" text-anchor=\"middle\">nsubj</textPath>\n    </text>\n    <path class=\"displacy-arrowhead\" d=\"M4030,484.0 L4022,472.0 4038,472.0\" fill=\"currentColor\"/>\n</g>\n\n<g class=\"displacy-arrow\">\n    <path class=\"displacy-arc\" id=\"arrow-406d404c3a534016b3353948fc32779d-0-32\" stroke-width=\"2px\" d=\"M4150,482.0 C4150,422.0 4215.0,422.0 4215.0,482.0\" fill=\"none\" stroke=\"currentColor\"/>\n    <text dy=\"1.25em\" style=\"font-size: 0.8em; letter-spacing: 1px\">\n        <textPath xlink:href=\"#arrow-406d404c3a534016b3353948fc32779d-0-32\" class=\"displacy-label\" startOffset=\"50%\" side=\"left\" fill=\"currentColor\" text-anchor=\"middle\">advmod</textPath>\n    </text>\n    <path class=\"displacy-arrowhead\" d=\"M4150,484.0 L4142,472.0 4158,472.0\" fill=\"currentColor\"/>\n</g>\n\n<g class=\"displacy-arrow\">\n    <path class=\"displacy-arc\" id=\"arrow-406d404c3a534016b3353948fc32779d-0-33\" stroke-width=\"2px\" d=\"M4390,482.0 C4390,422.0 4455.0,422.0 4455.0,482.0\" fill=\"none\" stroke=\"currentColor\"/>\n    <text dy=\"1.25em\" style=\"font-size: 0.8em; letter-spacing: 1px\">\n        <textPath xlink:href=\"#arrow-406d404c3a534016b3353948fc32779d-0-33\" class=\"displacy-label\" startOffset=\"50%\" side=\"left\" fill=\"currentColor\" text-anchor=\"middle\">compound</textPath>\n    </text>\n    <path class=\"displacy-arrowhead\" d=\"M4390,484.0 L4382,472.0 4398,472.0\" fill=\"currentColor\"/>\n</g>\n\n<g class=\"displacy-arrow\">\n    <path class=\"displacy-arc\" id=\"arrow-406d404c3a534016b3353948fc32779d-0-34\" stroke-width=\"2px\" d=\"M4510,482.0 C4510,302.0 4825.0,302.0 4825.0,482.0\" fill=\"none\" stroke=\"currentColor\"/>\n    <text dy=\"1.25em\" style=\"font-size: 0.8em; letter-spacing: 1px\">\n        <textPath xlink:href=\"#arrow-406d404c3a534016b3353948fc32779d-0-34\" class=\"displacy-label\" startOffset=\"50%\" side=\"left\" fill=\"currentColor\" text-anchor=\"middle\">poss</textPath>\n    </text>\n    <path class=\"displacy-arrowhead\" d=\"M4510,484.0 L4502,472.0 4518,472.0\" fill=\"currentColor\"/>\n</g>\n\n<g class=\"displacy-arrow\">\n    <path class=\"displacy-arc\" id=\"arrow-406d404c3a534016b3353948fc32779d-0-35\" stroke-width=\"2px\" d=\"M4510,482.0 C4510,422.0 4575.0,422.0 4575.0,482.0\" fill=\"none\" stroke=\"currentColor\"/>\n    <text dy=\"1.25em\" style=\"font-size: 0.8em; letter-spacing: 1px\">\n        <textPath xlink:href=\"#arrow-406d404c3a534016b3353948fc32779d-0-35\" class=\"displacy-label\" startOffset=\"50%\" side=\"left\" fill=\"currentColor\" text-anchor=\"middle\">case</textPath>\n    </text>\n    <path class=\"displacy-arrowhead\" d=\"M4575.0,484.0 L4583.0,472.0 4567.0,472.0\" fill=\"currentColor\"/>\n</g>\n\n<g class=\"displacy-arrow\">\n    <path class=\"displacy-arc\" id=\"arrow-406d404c3a534016b3353948fc32779d-0-36\" stroke-width=\"2px\" d=\"M4750,482.0 C4750,422.0 4815.0,422.0 4815.0,482.0\" fill=\"none\" stroke=\"currentColor\"/>\n    <text dy=\"1.25em\" style=\"font-size: 0.8em; letter-spacing: 1px\">\n        <textPath xlink:href=\"#arrow-406d404c3a534016b3353948fc32779d-0-36\" class=\"displacy-label\" startOffset=\"50%\" side=\"left\" fill=\"currentColor\" text-anchor=\"middle\">compound</textPath>\n    </text>\n    <path class=\"displacy-arrowhead\" d=\"M4750,484.0 L4742,472.0 4758,472.0\" fill=\"currentColor\"/>\n</g>\n\n<g class=\"displacy-arrow\">\n    <path class=\"displacy-arc\" id=\"arrow-406d404c3a534016b3353948fc32779d-0-37\" stroke-width=\"2px\" d=\"M4270,482.0 C4270,182.0 4835.0,182.0 4835.0,482.0\" fill=\"none\" stroke=\"currentColor\"/>\n    <text dy=\"1.25em\" style=\"font-size: 0.8em; letter-spacing: 1px\">\n        <textPath xlink:href=\"#arrow-406d404c3a534016b3353948fc32779d-0-37\" class=\"displacy-label\" startOffset=\"50%\" side=\"left\" fill=\"currentColor\" text-anchor=\"middle\">dobj</textPath>\n    </text>\n    <path class=\"displacy-arrowhead\" d=\"M4835.0,484.0 L4843.0,472.0 4827.0,472.0\" fill=\"currentColor\"/>\n</g>\n\n<g class=\"displacy-arrow\">\n    <path class=\"displacy-arc\" id=\"arrow-406d404c3a534016b3353948fc32779d-0-38\" stroke-width=\"2px\" d=\"M4870,482.0 C4870,422.0 4935.0,422.0 4935.0,482.0\" fill=\"none\" stroke=\"currentColor\"/>\n    <text dy=\"1.25em\" style=\"font-size: 0.8em; letter-spacing: 1px\">\n        <textPath xlink:href=\"#arrow-406d404c3a534016b3353948fc32779d-0-38\" class=\"displacy-label\" startOffset=\"50%\" side=\"left\" fill=\"currentColor\" text-anchor=\"middle\">prep</textPath>\n    </text>\n    <path class=\"displacy-arrowhead\" d=\"M4935.0,484.0 L4943.0,472.0 4927.0,472.0\" fill=\"currentColor\"/>\n</g>\n\n<g class=\"displacy-arrow\">\n    <path class=\"displacy-arc\" id=\"arrow-406d404c3a534016b3353948fc32779d-0-39\" stroke-width=\"2px\" d=\"M5110,482.0 C5110,422.0 5175.0,422.0 5175.0,482.0\" fill=\"none\" stroke=\"currentColor\"/>\n    <text dy=\"1.25em\" style=\"font-size: 0.8em; letter-spacing: 1px\">\n        <textPath xlink:href=\"#arrow-406d404c3a534016b3353948fc32779d-0-39\" class=\"displacy-label\" startOffset=\"50%\" side=\"left\" fill=\"currentColor\" text-anchor=\"middle\">compound</textPath>\n    </text>\n    <path class=\"displacy-arrowhead\" d=\"M5110,484.0 L5102,472.0 5118,472.0\" fill=\"currentColor\"/>\n</g>\n\n<g class=\"displacy-arrow\">\n    <path class=\"displacy-arc\" id=\"arrow-406d404c3a534016b3353948fc32779d-0-40\" stroke-width=\"2px\" d=\"M4990,482.0 C4990,362.0 5180.0,362.0 5180.0,482.0\" fill=\"none\" stroke=\"currentColor\"/>\n    <text dy=\"1.25em\" style=\"font-size: 0.8em; letter-spacing: 1px\">\n        <textPath xlink:href=\"#arrow-406d404c3a534016b3353948fc32779d-0-40\" class=\"displacy-label\" startOffset=\"50%\" side=\"left\" fill=\"currentColor\" text-anchor=\"middle\">pobj</textPath>\n    </text>\n    <path class=\"displacy-arrowhead\" d=\"M5180.0,484.0 L5188.0,472.0 5172.0,472.0\" fill=\"currentColor\"/>\n</g>\n\n<g class=\"displacy-arrow\">\n    <path class=\"displacy-arc\" id=\"arrow-406d404c3a534016b3353948fc32779d-0-41\" stroke-width=\"2px\" d=\"M5350,482.0 C5350,422.0 5415.0,422.0 5415.0,482.0\" fill=\"none\" stroke=\"currentColor\"/>\n    <text dy=\"1.25em\" style=\"font-size: 0.8em; letter-spacing: 1px\">\n        <textPath xlink:href=\"#arrow-406d404c3a534016b3353948fc32779d-0-41\" class=\"displacy-label\" startOffset=\"50%\" side=\"left\" fill=\"currentColor\" text-anchor=\"middle\">nsubj</textPath>\n    </text>\n    <path class=\"displacy-arrowhead\" d=\"M5350,484.0 L5342,472.0 5358,472.0\" fill=\"currentColor\"/>\n</g>\n\n<g class=\"displacy-arrow\">\n    <path class=\"displacy-arc\" id=\"arrow-406d404c3a534016b3353948fc32779d-0-42\" stroke-width=\"2px\" d=\"M4870,482.0 C4870,182.0 5435.0,182.0 5435.0,482.0\" fill=\"none\" stroke=\"currentColor\"/>\n    <text dy=\"1.25em\" style=\"font-size: 0.8em; letter-spacing: 1px\">\n        <textPath xlink:href=\"#arrow-406d404c3a534016b3353948fc32779d-0-42\" class=\"displacy-label\" startOffset=\"50%\" side=\"left\" fill=\"currentColor\" text-anchor=\"middle\">relcl</textPath>\n    </text>\n    <path class=\"displacy-arrowhead\" d=\"M5435.0,484.0 L5443.0,472.0 5427.0,472.0\" fill=\"currentColor\"/>\n</g>\n\n<g class=\"displacy-arrow\">\n    <path class=\"displacy-arc\" id=\"arrow-406d404c3a534016b3353948fc32779d-0-43\" stroke-width=\"2px\" d=\"M5590,482.0 C5590,362.0 5780.0,362.0 5780.0,482.0\" fill=\"none\" stroke=\"currentColor\"/>\n    <text dy=\"1.25em\" style=\"font-size: 0.8em; letter-spacing: 1px\">\n        <textPath xlink:href=\"#arrow-406d404c3a534016b3353948fc32779d-0-43\" class=\"displacy-label\" startOffset=\"50%\" side=\"left\" fill=\"currentColor\" text-anchor=\"middle\">poss</textPath>\n    </text>\n    <path class=\"displacy-arrowhead\" d=\"M5590,484.0 L5582,472.0 5598,472.0\" fill=\"currentColor\"/>\n</g>\n\n<g class=\"displacy-arrow\">\n    <path class=\"displacy-arc\" id=\"arrow-406d404c3a534016b3353948fc32779d-0-44\" stroke-width=\"2px\" d=\"M5590,482.0 C5590,422.0 5655.0,422.0 5655.0,482.0\" fill=\"none\" stroke=\"currentColor\"/>\n    <text dy=\"1.25em\" style=\"font-size: 0.8em; letter-spacing: 1px\">\n        <textPath xlink:href=\"#arrow-406d404c3a534016b3353948fc32779d-0-44\" class=\"displacy-label\" startOffset=\"50%\" side=\"left\" fill=\"currentColor\" text-anchor=\"middle\">case</textPath>\n    </text>\n    <path class=\"displacy-arrowhead\" d=\"M5655.0,484.0 L5663.0,472.0 5647.0,472.0\" fill=\"currentColor\"/>\n</g>\n\n<g class=\"displacy-arrow\">\n    <path class=\"displacy-arc\" id=\"arrow-406d404c3a534016b3353948fc32779d-0-45\" stroke-width=\"2px\" d=\"M5470,482.0 C5470,302.0 5785.0,302.0 5785.0,482.0\" fill=\"none\" stroke=\"currentColor\"/>\n    <text dy=\"1.25em\" style=\"font-size: 0.8em; letter-spacing: 1px\">\n        <textPath xlink:href=\"#arrow-406d404c3a534016b3353948fc32779d-0-45\" class=\"displacy-label\" startOffset=\"50%\" side=\"left\" fill=\"currentColor\" text-anchor=\"middle\">dobj</textPath>\n    </text>\n    <path class=\"displacy-arrowhead\" d=\"M5785.0,484.0 L5793.0,472.0 5777.0,472.0\" fill=\"currentColor\"/>\n</g>\n</svg></span>"
     },
     "metadata": {},
     "output_type": "display_data"
    }
   ],
   "source": [
    "import spacy\n",
    "from spacy import displacy\n",
    "\n",
    "nlp = spacy.load(\"en_core_web_sm\")\n",
    "doc = nlp(\"Samuel Alexander Mendes was born on August 1, 1965 in Reading, England, UK to parents James Peter Mendes, a retired university lecturer from University of Southern California, and Valerie Helene Mendes, an author. He later attended New York's High School of Performing Arts who writes children's books.\")\n",
    "for token in doc:\n",
    "    print(token.text, token.dep_, token.head.text, token.head.pos_,\n",
    "            [child for child in token.children])\n",
    "\n",
    "options = {\"distance\": 120}\n",
    "displacy.render(doc, style=\"dep\", options=options)"
   ],
   "metadata": {
    "collapsed": false,
    "pycharm": {
     "name": "#%%\n"
    }
   }
  },
  {
   "cell_type": "code",
   "execution_count": 5,
   "outputs": [
    {
     "name": "stdout",
     "output_type": "stream",
     "text": [
      "{writes, attended}\n"
     ]
    }
   ],
   "source": [
    "from spacy.symbols import nsubj, VERB\n",
    "verbs = set()\n",
    "for possible_subject in doc:\n",
    "    if possible_subject.dep == nsubj and possible_subject.head.pos == VERB:\n",
    "        verbs.add(possible_subject.head)\n",
    "print(verbs)"
   ],
   "metadata": {
    "collapsed": false,
    "pycharm": {
     "name": "#%%\n"
    }
   }
  }
 ],
 "metadata": {
  "kernelspec": {
   "name": "python3",
   "language": "python",
   "display_name": "Python 3"
  },
  "language_info": {
   "codemirror_mode": {
    "name": "ipython",
    "version": 3
   },
   "file_extension": ".py",
   "mimetype": "text/x-python",
   "name": "python",
   "nbconvert_exporter": "python",
   "pygments_lexer": "ipython3",
   "version": "3.8.3-final"
  },
  "nteract": {
   "version": "0.15.0"
  }
 },
 "nbformat": 4,
 "nbformat_minor": 2
}